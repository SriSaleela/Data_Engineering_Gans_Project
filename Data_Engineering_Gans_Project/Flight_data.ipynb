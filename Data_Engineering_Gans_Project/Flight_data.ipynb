{
 "cells": [
  {
   "cell_type": "markdown",
   "metadata": {
    "id": "Wu99MtE0j0za"
   },
   "source": [
    "So far we've learnt how to scrape the web, and how to make a request for information from an API. Some websites make APIs even easier. Check out [RapidAPI](https://rapidapi.com/) they take care of writing most of the code for you.\n",
    "\n",
    "We will use the [AeroDataBox API](https://rapidapi.com/aedbx-aedbx/api/aerodatabox/), which can retrieve all sorts of information about flights and airports. We will show you how to retrieve information about the airports, and then it's up to you to apply this, along with what you've already learnt this week, to **produce a function, which retrieves tomorrows flight information for the major airports in the cities you web scraped**."
   ]
  },
  {
   "cell_type": "code",
   "execution_count": 1,
   "metadata": {
    "id": "lIYdn1woOS1n"
   },
   "outputs": [],
   "source": [
    "import pandas as pd\n",
    "import requests"
   ]
  },
  {
   "cell_type": "code",
   "execution_count": null,
   "metadata": {},
   "outputs": [],
   "source": []
  },
  {
   "cell_type": "markdown",
   "metadata": {
    "id": "_xaphJ-ElsfW"
   },
   "source": [
    "On the left hand side of the AeroDataBox API page, you'll see a list of options for information that you can retrieve:\n",
    "> - Flights API\n",
    "- Subsciption / PUSH API\n",
    "- Airport API\n",
    "- Aircraft API\n",
    "- Healthcheck & Status API\n",
    "\n",
    "1. We want to select `Airport API`\n",
    "\n",
    "2. Then within Airport API we want to select `Search airports by location`\n",
    "\n",
    "3. Now in the middle third you'll want to enter the `latitude` and `longitude` of any city to test... we chose Berlin: latitude 52.31 longitude 13.24. Next we changed the `radiusKM` to only 50km. And finally set `withFlightInfoOnly` to true, so it will only return airports which have flight data (scheduled or live) available.\n",
    "\n",
    "4. On the right hand third of the screen you should see a block of code that looks pretty unfamiliar. This is because by default the code is probably set to *(Node.js) Axios*. However, we have the power to change this to familiar python. Select the dropdown box at the top of the code and select `python > requests`.\n",
    "\n",
    "Now you can copy the code to your notebook and it should look a little something like the cell below:"
   ]
  },
  {
   "cell_type": "code",
   "execution_count": 2,
   "metadata": {
    "id": "vpne9C0Pq2ht",
    "outputId": "469633c6-4a2c-4369-d9e2-979f7ed3098e"
   },
   "outputs": [
    {
     "name": "stdout",
     "output_type": "stream",
     "text": [
      "{\"searchBy\":{\"lat\":52.31,\"lon\":13.24},\"items\":[{\"icao\":\"EDDB\",\"iata\":\"BER\",\"name\":\"Berlin, Berlin Brandenburg\",\"shortName\":\"Brandenburg\",\"municipalityName\":\"Berlin\",\"location\":{\"lat\":52.35139,\"lon\":13.493889},\"countryCode\":\"DE\"}]}\n"
     ]
    }
   ],
   "source": [
    "url = \"https://aerodatabox.p.rapidapi.com/airports/search/location\"\n",
    "\n",
    "querystring = {\"lat\":\"52.31\",\"lon\":\"13.24\",\"radiusKm\":\"50\",\"limit\":\"10\",\"withFlightInfoOnly\":\"true\"}\n",
    "\n",
    "headers = {\n",
    "\t\"X-RapidAPI-Key\": \"4cea24a7b1msh913cfb4bb02d7fap129548jsne33a1520a95c\",\n",
    "\t\"X-RapidAPI-Host\": \"aerodatabox.p.rapidapi.com\"\n",
    "}\n",
    "\n",
    "response = requests.request(\"GET\", url, headers=headers, params=querystring)\n",
    "\n",
    "print(response.text)"
   ]
  },
  {
   "cell_type": "markdown",
   "metadata": {
    "id": "ZImplZC7q2ht"
   },
   "source": [
    "Let's view the response as `.json()` instead of `.text` so that it's easier to read"
   ]
  },
  {
   "cell_type": "code",
   "execution_count": 3,
   "metadata": {
    "id": "QY1lrc5Xq2hu",
    "outputId": "3cfe4873-7e7d-4ae0-8be8-1279ae67d64a"
   },
   "outputs": [
    {
     "name": "stdout",
     "output_type": "stream",
     "text": [
      "<bound method Response.json of <Response [200]>>\n"
     ]
    }
   ],
   "source": [
    "print(response.json)"
   ]
  },
  {
   "cell_type": "code",
   "execution_count": 4,
   "metadata": {
    "id": "RRZK23nJq2hu"
   },
   "outputs": [
    {
     "ename": "SyntaxError",
     "evalue": "invalid syntax (3146111061.py, line 1)",
     "output_type": "error",
     "traceback": [
      "\u001b[0;36m  File \u001b[0;32m\"/var/folders/h0/80_f4fw53yx0ftl50j43_nb80000gn/T/ipykernel_1453/3146111061.py\"\u001b[0;36m, line \u001b[0;32m1\u001b[0m\n\u001b[0;31m    from IPython.display\u001b[0m\n\u001b[0m                         ^\u001b[0m\n\u001b[0;31mSyntaxError\u001b[0m\u001b[0;31m:\u001b[0m invalid syntax\n"
     ]
    }
   ],
   "source": [
    "from IPython.display \n",
    "import JSON"
   ]
  },
  {
   "cell_type": "code",
   "execution_count": 5,
   "metadata": {
    "id": "jwkNkbznq2hu",
    "outputId": "f0c89cf0-ac55-4857-d8c8-34974ece8f2a"
   },
   "outputs": [
    {
     "ename": "NameError",
     "evalue": "name 'JSON' is not defined",
     "output_type": "error",
     "traceback": [
      "\u001b[0;31m---------------------------------------------------------------------------\u001b[0m",
      "\u001b[0;31mNameError\u001b[0m                                 Traceback (most recent call last)",
      "\u001b[0;32m/var/folders/h0/80_f4fw53yx0ftl50j43_nb80000gn/T/ipykernel_1453/2105439482.py\u001b[0m in \u001b[0;36m<module>\u001b[0;34m\u001b[0m\n\u001b[0;32m----> 1\u001b[0;31m \u001b[0mdisplay\u001b[0m\u001b[0;34m(\u001b[0m\u001b[0mJSON\u001b[0m\u001b[0;34m(\u001b[0m\u001b[0mresponse\u001b[0m\u001b[0;34m.\u001b[0m\u001b[0mjson\u001b[0m\u001b[0;34m(\u001b[0m\u001b[0;34m)\u001b[0m\u001b[0;34m)\u001b[0m\u001b[0;34m)\u001b[0m\u001b[0;34m\u001b[0m\u001b[0;34m\u001b[0m\u001b[0m\n\u001b[0m",
      "\u001b[0;31mNameError\u001b[0m: name 'JSON' is not defined"
     ]
    }
   ],
   "source": [
    "display(JSON(response.json()))"
   ]
  },
  {
   "cell_type": "markdown",
   "metadata": {
    "id": "MDATiWNaq2hu"
   },
   "source": [
    "We can now turn this into a dataframe using `.json_normalize()`"
   ]
  },
  {
   "cell_type": "code",
   "execution_count": 6,
   "metadata": {
    "id": "kvA3W6ysq2hu",
    "outputId": "beb35343-dd4a-4fcd-919f-f29dbedd46d8"
   },
   "outputs": [
    {
     "data": {
      "text/html": [
       "<div>\n",
       "<style scoped>\n",
       "    .dataframe tbody tr th:only-of-type {\n",
       "        vertical-align: middle;\n",
       "    }\n",
       "\n",
       "    .dataframe tbody tr th {\n",
       "        vertical-align: top;\n",
       "    }\n",
       "\n",
       "    .dataframe thead th {\n",
       "        text-align: right;\n",
       "    }\n",
       "</style>\n",
       "<table border=\"1\" class=\"dataframe\">\n",
       "  <thead>\n",
       "    <tr style=\"text-align: right;\">\n",
       "      <th></th>\n",
       "      <th>icao</th>\n",
       "      <th>iata</th>\n",
       "      <th>name</th>\n",
       "      <th>shortName</th>\n",
       "      <th>municipalityName</th>\n",
       "      <th>countryCode</th>\n",
       "      <th>location.lat</th>\n",
       "      <th>location.lon</th>\n",
       "    </tr>\n",
       "  </thead>\n",
       "  <tbody>\n",
       "    <tr>\n",
       "      <th>0</th>\n",
       "      <td>EDDB</td>\n",
       "      <td>BER</td>\n",
       "      <td>Berlin, Berlin Brandenburg</td>\n",
       "      <td>Brandenburg</td>\n",
       "      <td>Berlin</td>\n",
       "      <td>DE</td>\n",
       "      <td>52.35139</td>\n",
       "      <td>13.493889</td>\n",
       "    </tr>\n",
       "  </tbody>\n",
       "</table>\n",
       "</div>"
      ],
      "text/plain": [
       "   icao iata                        name    shortName municipalityName  \\\n",
       "0  EDDB  BER  Berlin, Berlin Brandenburg  Brandenburg           Berlin   \n",
       "\n",
       "  countryCode  location.lat  location.lon  \n",
       "0          DE      52.35139     13.493889  "
      ]
     },
     "execution_count": 6,
     "metadata": {},
     "output_type": "execute_result"
    }
   ],
   "source": [
    "pd.json_normalize(response.json()['items'])"
   ]
  },
  {
   "cell_type": "markdown",
   "metadata": {
    "id": "Q47nbbH0I3Xt"
   },
   "source": [
    "Let's now use this for the latitude and longitude of multiple cities"
   ]
  },
  {
   "cell_type": "code",
   "execution_count": 7,
   "metadata": {
    "id": "96k9wtmmq2hv"
   },
   "outputs": [],
   "source": [
    "lat = [52.3112, 51.3026]\n",
    "lon = [13.2418, 0.739]\n",
    "\n",
    "list_for_df_airports = []\n",
    "\n",
    "for i in range(len(lat)):\n",
    "    url = \"https://aerodatabox.p.rapidapi.com/airports/search/location\"\n",
    "\n",
    "    querystring = {\"lat\":lat[i],\"lon\":lon[i],\"radiusKm\":\"50\",\"limit\":\"10\",\"withFlightInfoOnly\":\"true\"}\n",
    "\n",
    "    headers = {\n",
    "        \"X-RapidAPI-Key\": \"1c3251541bmsh3ea474bb0b452e2p114d3ajsnb5ebfcb79cb2\",\n",
    "        \"X-RapidAPI-Host\": \"aerodatabox.p.rapidapi.com\"\n",
    "    }\n",
    "\n",
    "    response = requests.request(\"GET\", url, headers=headers, params=querystring)\n",
    "    \n",
    "    list_for_df_airports.append(response.json()['items'])"
   ]
  },
  {
   "cell_type": "code",
   "execution_count": 8,
   "metadata": {
    "id": "h76lqx8qq2hv"
   },
   "outputs": [],
   "source": [
    "# lat = [52.3112, 51.3026]\n",
    "# lon = [13.2418, 0.739]\n",
    "\n",
    "# list_for_df_airports = []\n",
    "\n",
    "# for i in range(len(lat)):\n",
    "#     url = f\"https://aerodatabox.p.rapidapi.com/airports/search/location/{lat[i]}/{lon[i]}/km/50/10\"\n",
    "\n",
    "#     querystring = {\"withFlightInfoOnly\":\"true\"}\n",
    "\n",
    "#     headers = {\n",
    "#         \"X-RapidAPI-Key\": \"1c3251541bmsh3ea474bb0b452e2p114d3ajsnb5ebfcb79cb2\",\n",
    "#         \"X-RapidAPI-Host\": \"aerodatabox.p.rapidapi.com\"\n",
    "#     }\n",
    "\n",
    "#     response = requests.request(\"GET\", url, headers=headers, params=querystring)\n",
    "    \n",
    "#     list_for_df_airports.append(response.json()['items'])"
   ]
  },
  {
   "cell_type": "code",
   "execution_count": 9,
   "metadata": {
    "id": "85DVzx3Gq2hv",
    "outputId": "4898157d-1c3e-4122-ad67-c881197a3cbe"
   },
   "outputs": [
    {
     "data": {
      "text/plain": [
       "[[{'icao': 'EDDB',\n",
       "   'iata': 'BER',\n",
       "   'name': 'Berlin, Berlin Brandenburg',\n",
       "   'shortName': 'Brandenburg',\n",
       "   'municipalityName': 'Berlin',\n",
       "   'location': {'lat': 52.35139, 'lon': 13.493889},\n",
       "   'countryCode': 'DE'}],\n",
       " [{'icao': 'EGMC',\n",
       "   'iata': 'SEN',\n",
       "   'name': 'Southend',\n",
       "   'shortName': 'Southend',\n",
       "   'municipalityName': 'Southend',\n",
       "   'location': {'lat': 51.5714, 'lon': 0.695555},\n",
       "   'countryCode': 'GB'}]]"
      ]
     },
     "execution_count": 9,
     "metadata": {},
     "output_type": "execute_result"
    }
   ],
   "source": [
    "list_for_df_airports"
   ]
  },
  {
   "cell_type": "code",
   "execution_count": 10,
   "metadata": {
    "id": "DTj58I7nq2hw",
    "outputId": "7d9ffc5d-58fe-4412-b1a1-f849ce1f7d5c"
   },
   "outputs": [
    {
     "data": {
      "text/plain": [
       "'EGMC'"
      ]
     },
     "execution_count": 10,
     "metadata": {},
     "output_type": "execute_result"
    }
   ],
   "source": [
    "list_for_df_airports[1][0]['icao']"
   ]
  },
  {
   "cell_type": "code",
   "execution_count": 11,
   "metadata": {
    "id": "lLY8mZxBq2hw",
    "outputId": "1b39d23e-39af-4ac4-f0d5-13ac3e244f54"
   },
   "outputs": [
    {
     "data": {
      "text/plain": [
       "{'icao': 'EDDB', 'name': 'Berlin, Berlin Brandenburg'}"
      ]
     },
     "execution_count": 11,
     "metadata": {},
     "output_type": "execute_result"
    }
   ],
   "source": [
    "airpot_dict = {}\n",
    "airpot_dict['icao'] = list_for_df_airports[0][0]['icao']\n",
    "airpot_dict['name'] = list_for_df_airports[0][0]['name']\n",
    "\n",
    "airpot_dict"
   ]
  },
  {
   "cell_type": "code",
   "execution_count": null,
   "metadata": {
    "id": "R9uc3iarq2hw"
   },
   "outputs": [],
   "source": []
  },
  {
   "cell_type": "code",
   "execution_count": 12,
   "metadata": {
    "id": "KEcgXOlxq2hw"
   },
   "outputs": [],
   "source": [
    "list_for_df = []\n",
    "\n",
    "for i in list_for_df_airports:\n",
    "    airpots_dict = {}\n",
    "    \n",
    "    airpots_dict['icao'] = i[0]['icao']\n",
    "    airpots_dict['name'] = i[0]['name']\n",
    "    list_for_df.append(airpots_dict)"
   ]
  },
  {
   "cell_type": "code",
   "execution_count": 13,
   "metadata": {
    "id": "kxojPuHfq2hw",
    "outputId": "10b27ae1-c587-44e4-f6f0-b3223dec06be"
   },
   "outputs": [
    {
     "data": {
      "text/plain": [
       "[{'icao': 'EDDB', 'name': 'Berlin, Berlin Brandenburg'},\n",
       " {'icao': 'EGMC', 'name': 'Southend'}]"
      ]
     },
     "execution_count": 13,
     "metadata": {},
     "output_type": "execute_result"
    }
   ],
   "source": [
    "list_for_df"
   ]
  },
  {
   "cell_type": "code",
   "execution_count": 14,
   "metadata": {
    "id": "JGpJVL5zq2hw",
    "outputId": "b827c821-a4f5-4baf-85ed-5d2733ab0dc8"
   },
   "outputs": [
    {
     "data": {
      "text/html": [
       "<div>\n",
       "<style scoped>\n",
       "    .dataframe tbody tr th:only-of-type {\n",
       "        vertical-align: middle;\n",
       "    }\n",
       "\n",
       "    .dataframe tbody tr th {\n",
       "        vertical-align: top;\n",
       "    }\n",
       "\n",
       "    .dataframe thead th {\n",
       "        text-align: right;\n",
       "    }\n",
       "</style>\n",
       "<table border=\"1\" class=\"dataframe\">\n",
       "  <thead>\n",
       "    <tr style=\"text-align: right;\">\n",
       "      <th></th>\n",
       "      <th>icao</th>\n",
       "      <th>name</th>\n",
       "    </tr>\n",
       "  </thead>\n",
       "  <tbody>\n",
       "    <tr>\n",
       "      <th>0</th>\n",
       "      <td>EDDB</td>\n",
       "      <td>Berlin, Berlin Brandenburg</td>\n",
       "    </tr>\n",
       "    <tr>\n",
       "      <th>1</th>\n",
       "      <td>EGMC</td>\n",
       "      <td>Southend</td>\n",
       "    </tr>\n",
       "  </tbody>\n",
       "</table>\n",
       "</div>"
      ],
      "text/plain": [
       "   icao                        name\n",
       "0  EDDB  Berlin, Berlin Brandenburg\n",
       "1  EGMC                    Southend"
      ]
     },
     "execution_count": 14,
     "metadata": {},
     "output_type": "execute_result"
    }
   ],
   "source": [
    "airports_df = pd.DataFrame(list_for_df)\n",
    "airports_df"
   ]
  },
  {
   "cell_type": "code",
   "execution_count": 15,
   "metadata": {
    "id": "q0VCPFOmH3vl"
   },
   "outputs": [],
   "source": [
    "def icao_airport_codes(latitudes, longitudes):\n",
    "\n",
    "  #assert len(latitudes) == len(longitudes)\n",
    "  \n",
    "  list_for_df = []\n",
    "\n",
    "  for i in range(len(latitudes)):\n",
    "\n",
    "    url = f\"https://aerodatabox.p.rapidapi.com/airports/search/location/{latitudes[i]}/{longitudes[i]}/km/100/16\"\n",
    "\n",
    "    querystring = {\"withFlightInfoOnly\":\"true\"}\n",
    "\n",
    "    headers = {\n",
    "      \"X-RapidAPI-Host\": \"aerodatabox.p.rapidapi.com\",\n",
    "      \"X-RapidAPI-Key\": \"YOUR_API_KEY_HERE\"\n",
    "    }\n",
    "\n",
    "    response = requests.request(\"GET\", url, headers=headers, params=querystring)\n",
    "\n",
    "    list_for_df.append(pd.json_normalize(response.json()['items']))\n",
    "\n",
    "  return pd.concat(list_for_df, ignore_index=True)"
   ]
  },
  {
   "cell_type": "markdown",
   "metadata": {
    "id": "q3DS1gbq3xG8"
   },
   "source": [
    "###### **Challenge 1:** Icao codes\n",
    "If you use the above for all of your cities, you can create a DataFrame of all the airports and their associated `icao` codes. Perfect for a relational database.\n",
    "\n",
    "###### **Challenge 2:** Arrivals information\n",
    "Using what you have been shown above, plus the skills you've learnt in the last couple of days:\n",
    "1. In `AeroDataBox API` use the `Flight API` > `FIDS/Schedules: Airport departures and arrivals by airport ICAO code` section\n",
    "2. Fill out the parameters in the middle third and then copy the `python: requests` code from the right hand third\n",
    "3. Explore the data you get back. What would be useful in your DataFrame and what can be excluded? Remember Gans wants to know about when people are arriving in the city\n",
    "4. Make a DataFrame from the information you see as important\n",
    "5. Condense everything you did above into a function that can take a list of ICAO codes as an input, and as an output gives you a DataFrame with the information for *tomorrows arrivals*"
   ]
  },
  {
   "cell_type": "code",
   "execution_count": 16,
   "metadata": {},
   "outputs": [],
   "source": [
    "from datetime import datetime, date, timedelta\n",
    "from pytz import timezone\n"
   ]
  },
  {
   "cell_type": "code",
   "execution_count": 17,
   "metadata": {
    "id": "4xFK3kVd4w5A"
   },
   "outputs": [
    {
     "name": "stdout",
     "output_type": "stream",
     "text": [
      "{\"arrivals\":[{\"departure\":{\"airport\":{\"icao\":\"EYVI\",\"iata\":\"VNO\",\"name\":\"Vilnius\"},\"scheduledTimeLocal\":\"2022-10-04 20:00+03:00\",\"scheduledTimeUtc\":\"2022-10-04 17:00Z\",\"quality\":[\"Basic\"]},\"arrival\":{\"scheduledTimeLocal\":\"2022-10-04 20:35+02:00\",\"scheduledTimeUtc\":\"2022-10-04 18:35Z\",\"terminal\":\"1\",\"quality\":[\"Basic\"]},\"number\":\"BT 921\",\"status\":\"Unknown\",\"codeshareStatus\":\"Unknown\",\"isCargo\":false,\"aircraft\":{\"model\":\"Airbus A220-300\"},\"airline\":{\"name\":\"Air Baltic\"}},{\"departure\":{\"airport\":{\"icao\":\"ENGM\",\"iata\":\"OSL\",\"name\":\"Oslo\"},\"scheduledTimeLocal\":\"2022-10-04 18:30+02:00\",\"actualTimeLocal\":\"2022-10-04 18:27+02:00\",\"scheduledTimeUtc\":\"2022-10-04 16:30Z\",\"actualTimeUtc\":\"2022-10-04 16:27Z\",\"checkInDesk\":\"123\",\"gate\":\"D3\",\"quality\":[\"Basic\",\"Live\"]},\"arrival\":{\"scheduledTimeLocal\":\"2022-10-04 20:05+02:00\",\"scheduledTimeUtc\":\"2022-10-04 18:05Z\",\"terminal\":\"1\",\"quality\":[\"Basic\"]},\"number\":\"DY 1108\",\"status\":\"Expected\",\"codeshareStatus\":\"Unknown\",\"isCargo\":false,\"aircraft\":{\"model\":\"Boeing 737-800\"},\"airline\":{\"name\":\"Norwegian Air Shuttle\"}},{\"departure\":{\"airport\":{\"icao\":\"LEPA\",\"iata\":\"PMI\",\"name\":\"Palma De Mallorca\"},\"scheduledTimeLocal\":\"2022-10-04 17:20+02:00\",\"actualTimeLocal\":\"2022-10-04 17:24+02:00\",\"scheduledTimeUtc\":\"2022-10-04 15:20Z\",\"actualTimeUtc\":\"2022-10-04 15:24Z\",\"terminal\":\"N\",\"checkInDesk\":\"002-017\",\"gate\":\"C68\",\"quality\":[\"Basic\",\"Live\"]},\"arrival\":{\"scheduledTimeLocal\":\"2022-10-04 20:05+02:00\",\"scheduledTimeUtc\":\"2022-10-04 18:05Z\",\"terminal\":\"0\",\"quality\":[\"Basic\"]},\"number\":\"FR 279\",\"status\":\"Expected\",\"codeshareStatus\":\"Unknown\",\"isCargo\":false,\"aircraft\":{\"model\":\"Airbus A320\"},\"airline\":{\"name\":\"Ryanair\"}},{\"departure\":{\"airport\":{\"icao\":\"LGSA\",\"iata\":\"CHQ\",\"name\":\"Souda\"},\"scheduledTimeLocal\":\"2022-10-04 17:50+03:00\",\"scheduledTimeUtc\":\"2022-10-04 14:50Z\",\"quality\":[\"Basic\"]},\"arrival\":{\"scheduledTimeLocal\":\"2022-10-04 20:00+02:00\",\"scheduledTimeUtc\":\"2022-10-04 18:00Z\",\"terminal\":\"0\",\"quality\":[\"Basic\"]},\"number\":\"FR 5642\",\"status\":\"Unknown\",\"codeshareStatus\":\"Unknown\",\"isCargo\":false,\"aircraft\":{\"model\":\"Boeing 737-800\"},\"airline\":{\"name\":\"Ryanair\"}},{\"departure\":{\"airport\":{\"icao\":\"ELLX\",\"iata\":\"LUX\",\"name\":\"Luxembourg\"},\"scheduledTimeLocal\":\"2022-10-04 18:40+02:00\",\"actualTimeLocal\":\"2022-10-04 18:40+02:00\",\"scheduledTimeUtc\":\"2022-10-04 16:40Z\",\"actualTimeUtc\":\"2022-10-04 16:40Z\",\"quality\":[\"Basic\",\"Live\"]},\"arrival\":{\"scheduledTimeLocal\":\"2022-10-04 20:10+02:00\",\"scheduledTimeUtc\":\"2022-10-04 18:10Z\",\"terminal\":\"1\",\"quality\":[\"Basic\"]},\"number\":\"LG 9473\",\"callSign\":\"LGL9473\",\"status\":\"Expected\",\"codeshareStatus\":\"Unknown\",\"isCargo\":false,\"aircraft\":{\"reg\":\"LX-LQJ\",\"modeS\":\"4D00DA\",\"model\":\"Bombardier Dash 8 Q400 / DHC-8-400\"},\"airline\":{\"name\":\"Luxair\"}},{\"departure\":{\"airport\":{\"icao\":\"EDDM\",\"iata\":\"MUC\",\"name\":\"Munich\"},\"scheduledTimeLocal\":\"2022-10-04 19:00+02:00\",\"actualTimeLocal\":\"2022-10-04 19:00+02:00\",\"scheduledTimeUtc\":\"2022-10-04 17:00Z\",\"actualTimeUtc\":\"2022-10-04 17:00Z\",\"terminal\":\"2\",\"quality\":[\"Basic\",\"Live\"]},\"arrival\":{\"scheduledTimeLocal\":\"2022-10-04 20:05+02:00\",\"scheduledTimeUtc\":\"2022-10-04 18:05Z\",\"terminal\":\"1\",\"quality\":[\"Basic\"]},\"number\":\"LH 1942\",\"status\":\"Expected\",\"codeshareStatus\":\"Unknown\",\"isCargo\":false,\"aircraft\":{\"model\":\"Airbus A320\"},\"airline\":{\"name\":\"Lufthansa\"}},{\"departure\":{\"airport\":{\"icao\":\"EBBR\",\"iata\":\"BRU\",\"name\":\"Brussels\"},\"scheduledTimeLocal\":\"2022-10-04 18:40+02:00\",\"actualTimeLocal\":\"2022-10-04 18:53+02:00\",\"scheduledTimeUtc\":\"2022-10-04 16:40Z\",\"actualTimeUtc\":\"2022-10-04 16:53Z\",\"checkInDesk\":\"05\",\"quality\":[\"Basic\",\"Live\"]},\"arrival\":{\"scheduledTimeLocal\":\"2022-10-04 20:00+02:00\",\"scheduledTimeUtc\":\"2022-10-04 18:00Z\",\"terminal\":\"1\",\"quality\":[\"Basic\"]},\"number\":\"SN 2589\",\"status\":\"Expected\",\"codeshareStatus\":\"Unknown\",\"isCargo\":false,\"aircraft\":{\"model\":\"Airbus A319\"},\"airline\":{\"name\":\"Brussels\"}},{\"departure\":{\"airport\":{\"icao\":\"LIEO\",\"iata\":\"OLB\",\"name\":\"Olbia\"},\"scheduledTimeLocal\":\"2022-10-04 17:50+02:00\",\"scheduledTimeUtc\":\"2022-10-04 15:50Z\",\"quality\":[\"Basic\"]},\"arrival\":{\"scheduledTimeLocal\":\"2022-10-04 20:10+02:00\",\"scheduledTimeUtc\":\"2022-10-04 18:10Z\",\"terminal\":\"1\",\"quality\":[\"Basic\"]},\"number\":\"U2 4590\",\"status\":\"Unknown\",\"codeshareStatus\":\"Unknown\",\"isCargo\":false,\"aircraft\":{\"model\":\"Airbus A319\"},\"airline\":{\"name\":\"easyJet\"}},{\"departure\":{\"airport\":{\"icao\":\"LFSB\",\"iata\":\"BSL\",\"name\":\"Bâle/Mulhouse\"},\"scheduledTimeLocal\":\"2022-10-04 19:15+02:00\",\"scheduledTimeUtc\":\"2022-10-04 17:15Z\",\"quality\":[\"Basic\"]},\"arrival\":{\"scheduledTimeLocal\":\"2022-10-04 20:50+02:00\",\"scheduledTimeUtc\":\"2022-10-04 18:50Z\",\"terminal\":\"1\",\"quality\":[\"Basic\"]},\"number\":\"U2 4640\",\"status\":\"Unknown\",\"codeshareStatus\":\"Unknown\",\"isCargo\":false,\"aircraft\":{\"model\":\"Airbus A320\"},\"airline\":{\"name\":\"easyJet\"}},{\"departure\":{\"airport\":{\"icao\":\"LIPZ\",\"iata\":\"VCE\",\"name\":\"Venice\"},\"scheduledTimeLocal\":\"2022-10-04 18:50+02:00\",\"scheduledTimeUtc\":\"2022-10-04 16:50Z\",\"quality\":[\"Basic\"]},\"arrival\":{\"scheduledTimeLocal\":\"2022-10-04 20:35+02:00\",\"scheduledTimeUtc\":\"2022-10-04 18:35Z\",\"terminal\":\"1\",\"quality\":[\"Basic\"]},\"number\":\"U2 5840\",\"status\":\"Unknown\",\"codeshareStatus\":\"Unknown\",\"isCargo\":false,\"aircraft\":{\"model\":\"Airbus A319\"},\"airline\":{\"name\":\"easyJet\"}},{\"departure\":{\"airport\":{\"icao\":\"EDDF\",\"iata\":\"FRA\",\"name\":\"Frankfurt-am-Main\"},\"scheduledTimeLocal\":\"2022-10-04 19:45+02:00\",\"actualTimeLocal\":\"2022-10-04 19:45+02:00\",\"scheduledTimeUtc\":\"2022-10-04 17:45Z\",\"actualTimeUtc\":\"2022-10-04 17:45Z\",\"terminal\":\"1\",\"checkInDesk\":\"263-461\",\"gate\":\"A52\",\"quality\":[\"Basic\",\"Live\"]},\"arrival\":{\"scheduledTimeLocal\":\"2022-10-04 20:55+02:00\",\"scheduledTimeUtc\":\"2022-10-04 18:55Z\",\"terminal\":\"1\",\"quality\":[\"Basic\"]},\"number\":\"LH 200\",\"status\":\"Expected\",\"codeshareStatus\":\"Unknown\",\"isCargo\":false,\"aircraft\":{\"reg\":\"D-AISW\",\"model\":\"Airbus A321\"},\"airline\":{\"name\":\"Lufthansa\"}},{\"departure\":{\"airport\":{\"icao\":\"EDDL\",\"iata\":\"DUS\",\"name\":\"Duesseldorf\"},\"scheduledTimeLocal\":\"2022-10-04 20:45+02:00\",\"actualTimeLocal\":\"2022-10-04 20:50+02:00\",\"runwayTimeLocal\":\"2022-10-04 20:59+02:00\",\"scheduledTimeUtc\":\"2022-10-04 18:45Z\",\"actualTimeUtc\":\"2022-10-04 18:50Z\",\"runwayTimeUtc\":\"2022-10-04 18:59Z\",\"terminal\":\"B\",\"checkInDesk\":\"153,170\",\"gate\":\"A40\",\"quality\":[\"Basic\",\"Live\"]},\"arrival\":{\"scheduledTimeLocal\":\"2022-10-04 21:55+02:00\",\"scheduledTimeUtc\":\"2022-10-04 19:55Z\",\"terminal\":\"1\",\"quality\":[\"Basic\"]},\"number\":\"EW 8047\",\"callSign\":\"GWI27LR\",\"status\":\"Expected\",\"codeshareStatus\":\"Unknown\",\"isCargo\":false,\"aircraft\":{\"reg\":\"D-ABNH\",\"modeS\":\"3C49C8\",\"model\":\"Airbus A319\"},\"airline\":{\"name\":\"Eurowings\"}},{\"departure\":{\"airport\":{\"icao\":\"LTFM\",\"iata\":\"IST\",\"name\":\"Istanbul\"},\"scheduledTimeLocal\":\"2022-10-04 19:10+03:00\",\"scheduledTimeUtc\":\"2022-10-04 16:10Z\",\"quality\":[\"Basic\"]},\"arrival\":{\"scheduledTimeLocal\":\"2022-10-04 21:05+02:00\",\"scheduledTimeUtc\":\"2022-10-04 19:05Z\",\"terminal\":\"1\",\"quality\":[\"Basic\"]},\"number\":\"TK 1727\",\"status\":\"Unknown\",\"codeshareStatus\":\"Unknown\",\"isCargo\":false,\"aircraft\":{\"model\":\"Airbus A321\"},\"airline\":{\"name\":\"Turkish\"}},{\"departure\":{\"airport\":{\"icao\":\"LIML\",\"iata\":\"LIN\",\"name\":\"Milan\"},\"scheduledTimeLocal\":\"2022-10-04 19:20+02:00\",\"scheduledTimeUtc\":\"2022-10-04 17:20Z\",\"quality\":[\"Basic\"]},\"arrival\":{\"scheduledTimeLocal\":\"2022-10-04 21:10+02:00\",\"scheduledTimeUtc\":\"2022-10-04 19:10Z\",\"terminal\":\"1\",\"quality\":[\"Basic\"]},\"number\":\"U2 4678\",\"status\":\"Unknown\",\"codeshareStatus\":\"Unknown\",\"isCargo\":false,\"aircraft\":{\"model\":\"Airbus A320\"},\"airline\":{\"name\":\"easyJet\"}},{\"departure\":{\"airport\":{\"icao\":\"HEGN\",\"iata\":\"HRG\",\"name\":\"Hurghada\"},\"scheduledTimeLocal\":\"2022-10-04 16:45+02:00\",\"scheduledTimeUtc\":\"2022-10-04 14:45Z\",\"terminal\":\"1\",\"quality\":[\"Basic\"]},\"arrival\":{\"scheduledTimeLocal\":\"2022-10-04 21:55+02:00\",\"scheduledTimeUtc\":\"2022-10-04 19:55Z\",\"terminal\":\"1\",\"quality\":[\"Basic\"]},\"number\":\"U2 5788\",\"status\":\"Unknown\",\"codeshareStatus\":\"Unknown\",\"isCargo\":false,\"aircraft\":{\"model\":\"Airbus A320\"},\"airline\":{\"name\":\"easyJet\"}},{\"departure\":{\"airport\":{\"icao\":\"EGKK\",\"iata\":\"LGW\",\"name\":\"London\"},\"scheduledTimeLocal\":\"2022-10-04 18:00+01:00\",\"actualTimeLocal\":\"2022-10-04 18:00+01:00\",\"scheduledTimeUtc\":\"2022-10-04 17:00Z\",\"actualTimeUtc\":\"2022-10-04 17:00Z\",\"terminal\":\"N\",\"gate\":\"564\",\"quality\":[\"Basic\",\"Live\"]},\"arrival\":{\"scheduledTimeLocal\":\"2022-10-04 21:00+02:00\",\"scheduledTimeUtc\":\"2022-10-04 19:00Z\",\"terminal\":\"1\",\"quality\":[\"Basic\"]},\"number\":\"U2 8125\",\"status\":\"Expected\",\"codeshareStatus\":\"Unknown\",\"isCargo\":false,\"aircraft\":{\"model\":\"Airbus A319\"},\"airline\":{\"name\":\"easyJet\"}},{\"departure\":{\"airport\":{\"icao\":\"LEBL\",\"iata\":\"BCN\",\"name\":\"Barcelona\"},\"scheduledTimeLocal\":\"2022-10-04 18:35+02:00\",\"actualTimeLocal\":\"2022-10-04 18:39+02:00\",\"scheduledTimeUtc\":\"2022-10-04 16:35Z\",\"actualTimeUtc\":\"2022-10-04 16:39Z\",\"terminal\":\"1\",\"checkInDesk\":\"401-512\",\"gate\":\"A12\",\"quality\":[\"Basic\",\"Live\"]},\"arrival\":{\"scheduledTimeLocal\":\"2022-10-04 21:20+02:00\",\"scheduledTimeUtc\":\"2022-10-04 19:20Z\",\"terminal\":\"1\",\"quality\":[\"Basic\"]},\"number\":\"VY 1884\",\"status\":\"Expected\",\"codeshareStatus\":\"Unknown\",\"isCargo\":false,\"aircraft\":{\"model\":\"Airbus A320\"},\"airline\":{\"name\":\"Vueling\"}},{\"departure\":{\"airport\":{\"icao\":\"LBWN\",\"iata\":\"VAR\",\"name\":\"Varna\"},\"scheduledTimeLocal\":\"2022-10-04 19:50+03:00\",\"scheduledTimeUtc\":\"2022-10-04 16:50Z\",\"quality\":[\"Basic\"]},\"arrival\":{\"scheduledTimeLocal\":\"2022-10-04 21:20+02:00\",\"scheduledTimeUtc\":\"2022-10-04 19:20Z\",\"terminal\":\"0\",\"quality\":[\"Basic\"]},\"number\":\"W6 4515\",\"status\":\"Unknown\",\"codeshareStatus\":\"IsOperator\",\"isCargo\":false,\"aircraft\":{\"model\":\"Airbus A320\"},\"airline\":{\"name\":\"Wizz Air\"}},{\"departure\":{\"airport\":{\"icao\":\"LFPG\",\"iata\":\"CDG\",\"name\":\"Paris\"},\"scheduledTimeLocal\":\"2022-10-04 20:55+02:00\",\"scheduledTimeUtc\":\"2022-10-04 18:55Z\",\"terminal\":\"2F\",\"quality\":[\"Basic\"]},\"arrival\":{\"scheduledTimeLocal\":\"2022-10-04 22:40+02:00\",\"scheduledTimeUtc\":\"2022-10-04 20:40Z\",\"terminal\":\"1\",\"quality\":[\"Basic\"]},\"number\":\"AF 1134\",\"status\":\"Unknown\",\"codeshareStatus\":\"Unknown\",\"isCargo\":false,\"aircraft\":{\"model\":\"Airbus A320\"},\"airline\":{\"name\":\"Air France\"}},{\"departure\":{\"airport\":{\"icao\":\"LGRP\",\"iata\":\"RHO\",\"name\":\"Rodes Island\"},\"scheduledTimeLocal\":\"2022-10-04 19:50+03:00\",\"scheduledTimeUtc\":\"2022-10-04 16:50Z\",\"quality\":[\"Basic\"]},\"arrival\":{\"scheduledTimeLocal\":\"2022-10-04 22:20+02:00\",\"scheduledTimeUtc\":\"2022-10-04 20:20Z\",\"terminal\":\"1\",\"quality\":[\"Basic\"]},\"number\":\"EW 5305\",\"status\":\"Unknown\",\"codeshareStatus\":\"Unknown\",\"isCargo\":false,\"aircraft\":{\"model\":\"Airbus A320\"},\"airline\":{\"name\":\"Eurowings\"}},{\"departure\":{\"airport\":{\"icao\":\"LGTS\",\"iata\":\"SKG\",\"name\":\"Thessaloniki\"},\"scheduledTimeLocal\":\"2022-10-04 21:05+03:00\",\"scheduledTimeUtc\":\"2022-10-04 18:05Z\",\"terminal\":\"0\",\"quality\":[\"Basic\"]},\"arrival\":{\"scheduledTimeLocal\":\"2022-10-04 22:40+02:00\",\"scheduledTimeUtc\":\"2022-10-04 20:40Z\",\"terminal\":\"0\",\"quality\":[\"Basic\"]},\"number\":\"FR 1147\",\"status\":\"Unknown\",\"codeshareStatus\":\"Unknown\",\"isCargo\":false,\"aircraft\":{\"model\":\"Boeing 737-800\"},\"airline\":{\"name\":\"Ryanair\"}},{\"departure\":{\"airport\":{\"icao\":\"EGSS\",\"iata\":\"STN\",\"name\":\"London\"},\"scheduledTimeLocal\":\"2022-10-04 19:45+01:00\",\"actualTimeLocal\":\"2022-10-04 21:07+01:00\",\"scheduledTimeUtc\":\"2022-10-04 18:45Z\",\"actualTimeUtc\":\"2022-10-04 20:07Z\",\"terminal\":\"1\",\"quality\":[\"Basic\",\"Live\"]},\"arrival\":{\"scheduledTimeLocal\":\"2022-10-04 22:30+02:00\",\"scheduledTimeUtc\":\"2022-10-04 20:30Z\",\"terminal\":\"0\",\"quality\":[\"Basic\"]},\"number\":\"FR 147\",\"status\":\"Expected\",\"codeshareStatus\":\"Unknown\",\"isCargo\":false,\"aircraft\":{\"model\":\"Boeing 737-800\"},\"airline\":{\"name\":\"Ryanair\"}},{\"departure\":{\"airport\":{\"icao\":\"LICC\",\"iata\":\"CTA\",\"name\":\"Catania\"},\"scheduledTimeLocal\":\"2022-10-04 19:35+02:00\",\"actualTimeLocal\":\"2022-10-04 19:57+02:00\",\"scheduledTimeUtc\":\"2022-10-04 17:35Z\",\"actualTimeUtc\":\"2022-10-04 17:57Z\",\"terminal\":\"A\",\"quality\":[\"Basic\",\"Live\"]},\"arrival\":{\"scheduledTimeLocal\":\"2022-10-04 22:20+02:00\",\"scheduledTimeUtc\":\"2022-10-04 20:20Z\",\"terminal\":\"0\",\"quality\":[\"Basic\"]},\"number\":\"FR 1577\",\"status\":\"Expected\",\"codeshareStatus\":\"Unknown\",\"isCargo\":false,\"aircraft\":{\"model\":\"Boeing 737-800\"},\"airline\":{\"name\":\"Ryanair\"}},{\"departure\":{\"airport\":{\"icao\":\"LGAV\",\"iata\":\"ATH\",\"name\":\"Athens\"},\"scheduledTimeLocal\":\"2022-10-04 20:20+03:00\",\"actualTimeLocal\":\"2022-10-04 20:35+03:00\",\"scheduledTimeUtc\":\"2022-10-04 17:20Z\",\"actualTimeUtc\":\"2022-10-04 17:35Z\",\"terminal\":\"D\",\"checkInDesk\":\"50---52\",\"gate\":\"A40\",\"quality\":[\"Basic\",\"Live\"]},\"arrival\":{\"scheduledTimeLocal\":\"2022-10-04 22:15+02:00\",\"scheduledTimeUtc\":\"2022-10-04 20:15Z\",\"terminal\":\"0\",\"quality\":[\"Basic\"]},\"number\":\"FR 171\",\"status\":\"Expected\",\"codeshareStatus\":\"Unknown\",\"isCargo\":false,\"aircraft\":{\"model\":\"Boeing 737-800\"},\"airline\":{\"name\":\"Ryanair\"}},{\"departure\":{\"airport\":{\"icao\":\"LEIB\",\"iata\":\"IBZ\",\"name\":\"Ibiza Town\"},\"scheduledTimeLocal\":\"2022-10-04 19:35+02:00\",\"actualTimeLocal\":\"2022-10-04 19:59+02:00\",\"scheduledTimeUtc\":\"2022-10-04 17:35Z\",\"actualTimeUtc\":\"2022-10-04 17:59Z\",\"terminal\":\"1\",\"checkInDesk\":\"21-22\",\"gate\":\"02\",\"quality\":[\"Basic\",\"Live\"]},\"arrival\":{\"scheduledTimeLocal\":\"2022-10-04 22:20+02:00\",\"scheduledTimeUtc\":\"2022-10-04 20:20Z\",\"terminal\":\"0\",\"quality\":[\"Basic\"]},\"number\":\"FR 209\",\"status\":\"Expected\",\"codeshareStatus\":\"Unknown\",\"isCargo\":false,\"aircraft\":{\"model\":\"Boeing 737-800\"},\"airline\":{\"name\":\"Ryanair\"}},{\"departure\":{\"airport\":{\"icao\":\"LIMC\",\"iata\":\"MXP\",\"name\":\"Milan\"},\"scheduledTimeLocal\":\"2022-10-04 20:15+02:00\",\"scheduledTimeUtc\":\"2022-10-04 18:15Z\",\"terminal\":\"1\",\"quality\":[\"Basic\"]},\"arrival\":{\"scheduledTimeLocal\":\"2022-10-04 22:00+02:00\",\"scheduledTimeUtc\":\"2022-10-04 20:00Z\",\"terminal\":\"0\",\"quality\":[\"Basic\"]},\"number\":\"FR 9\",\"status\":\"Unknown\",\"codeshareStatus\":\"Unknown\",\"isCargo\":false,\"aircraft\":{\"model\":\"Boeing 737-800\"},\"airline\":{\"name\":\"Ryanair\"}},{\"departure\":{\"airport\":{\"icao\":\"LEMD\",\"iata\":\"MAD\",\"name\":\"Madrid\"},\"scheduledTimeLocal\":\"2022-10-04 19:40+02:00\",\"actualTimeLocal\":\"2022-10-04 19:40+02:00\",\"scheduledTimeUtc\":\"2022-10-04 17:40Z\",\"actualTimeUtc\":\"2022-10-04 17:40Z\",\"terminal\":\"4\",\"checkInDesk\":\"850-859\",\"gate\":\"J48\",\"quality\":[\"Basic\",\"Live\"]},\"arrival\":{\"scheduledTimeLocal\":\"2022-10-04 22:40+02:00\",\"scheduledTimeUtc\":\"2022-10-04 20:40Z\",\"terminal\":\"1\",\"quality\":[\"Basic\"]},\"number\":\"IB 3674\",\"status\":\"Expected\",\"codeshareStatus\":\"Unknown\",\"isCargo\":false,\"aircraft\":{\"model\":\"Airbus A320\"},\"airline\":{\"name\":\"Iberia\"}},{\"departure\":{\"airport\":{\"icao\":\"EDDM\",\"iata\":\"MUC\",\"name\":\"Munich\"},\"scheduledTimeLocal\":\"2022-10-04 21:30+02:00\",\"actualTimeLocal\":\"2022-10-04 21:30+02:00\",\"scheduledTimeUtc\":\"2022-10-04 19:30Z\",\"actualTimeUtc\":\"2022-10-04 19:30Z\",\"terminal\":\"2\",\"quality\":[\"Basic\",\"Live\"]},\"arrival\":{\"scheduledTimeLocal\":\"2022-10-04 22:35+02:00\",\"scheduledTimeUtc\":\"2022-10-04 20:35Z\",\"terminal\":\"1\",\"quality\":[\"Basic\"]},\"number\":\"LH 1960\",\"status\":\"Expected\",\"codeshareStatus\":\"Unknown\",\"isCargo\":false,\"aircraft\":{\"model\":\"Airbus A320\"},\"airline\":{\"name\":\"Lufthansa\"}},{\"departure\":{\"airport\":{\"icao\":\"EDDF\",\"iata\":\"FRA\",\"name\":\"Frankfurt-am-Main\"},\"scheduledTimeLocal\":\"2022-10-04 21:15+02:00\",\"actualTimeLocal\":\"2022-10-04 21:15+02:00\",\"scheduledTimeUtc\":\"2022-10-04 19:15Z\",\"actualTimeUtc\":\"2022-10-04 19:15Z\",\"terminal\":\"1\",\"checkInDesk\":\"263-461\",\"gate\":\"A50\",\"quality\":[\"Basic\",\"Live\"]},\"arrival\":{\"scheduledTimeLocal\":\"2022-10-04 22:25+02:00\",\"scheduledTimeUtc\":\"2022-10-04 20:25Z\",\"terminal\":\"1\",\"quality\":[\"Basic\"]},\"number\":\"LH 44\",\"status\":\"Expected\",\"codeshareStatus\":\"Unknown\",\"isCargo\":false,\"aircraft\":{\"reg\":\"D-AIEA\",\"modeS\":\"3C64A1\",\"model\":\"Airbus A321\"},\"airline\":{\"name\":\"Lufthansa\"}},{\"departure\":{\"airport\":{\"icao\":\"LSZH\",\"iata\":\"ZRH\",\"name\":\"Zurich\"},\"scheduledTimeLocal\":\"2022-10-04 20:55+02:00\",\"actualTimeLocal\":\"2022-10-04 20:55+02:00\",\"scheduledTimeUtc\":\"2022-10-04 18:55Z\",\"actualTimeUtc\":\"2022-10-04 18:55Z\",\"checkInDesk\":\"1\",\"gate\":\"A71\",\"quality\":[\"Basic\",\"Live\"]},\"arrival\":{\"scheduledTimeLocal\":\"2022-10-04 22:20+02:00\",\"scheduledTimeUtc\":\"2022-10-04 20:20Z\",\"terminal\":\"1\",\"quality\":[\"Basic\"]},\"number\":\"LX 962\",\"status\":\"Expected\",\"codeshareStatus\":\"Unknown\",\"isCargo\":false,\"aircraft\":{\"reg\":\"HB-IOM\",\"modeS\":\"4B1698\",\"model\":\"Airbus A320\"},\"airline\":{\"name\":\"SWISS\"}},{\"departure\":{\"airport\":{\"icao\":\"LOWW\",\"iata\":\"VIE\",\"name\":\"Vienna\"},\"scheduledTimeLocal\":\"2022-10-04 21:00+02:00\",\"actualTimeLocal\":\"2022-10-04 21:17+02:00\",\"scheduledTimeUtc\":\"2022-10-04 19:00Z\",\"actualTimeUtc\":\"2022-10-04 19:17Z\",\"terminal\":\"3\",\"checkInDesk\":\"351-368\",\"gate\":\"F27\",\"quality\":[\"Basic\",\"Live\"]},\"arrival\":{\"scheduledTimeLocal\":\"2022-10-04 22:15+02:00\",\"scheduledTimeUtc\":\"2022-10-04 20:15Z\",\"terminal\":\"1\",\"quality\":[\"Basic\"]},\"number\":\"OS 239\",\"status\":\"Expected\",\"codeshareStatus\":\"Unknown\",\"isCargo\":false,\"aircraft\":{\"model\":\"Airbus A320\"},\"airline\":{\"name\":\"Austrian\"}},{\"departure\":{\"airport\":{\"icao\":\"EBBR\",\"iata\":\"BRU\",\"name\":\"Brussels\"},\"scheduledTimeLocal\":\"2022-10-04 20:50+02:00\",\"actualTimeLocal\":\"2022-10-04 21:24+02:00\",\"scheduledTimeUtc\":\"2022-10-04 18:50Z\",\"actualTimeUtc\":\"2022-10-04 19:24Z\",\"checkInDesk\":\"05\",\"quality\":[\"Basic\",\"Live\"]},\"arrival\":{\"scheduledTimeLocal\":\"2022-10-04 22:10+02:00\",\"scheduledTimeUtc\":\"2022-10-04 20:10Z\",\"terminal\":\"1\",\"quality\":[\"Basic\"]},\"number\":\"SN 2591\",\"status\":\"Expected\",\"codeshareStatus\":\"Unknown\",\"isCargo\":false,\"aircraft\":{\"model\":\"Airbus A320\"},\"airline\":{\"name\":\"Brussels\"}},{\"departure\":{\"airport\":{\"icao\":\"LPPT\",\"iata\":\"LIS\",\"name\":\"Lisbon\"},\"scheduledTimeLocal\":\"2022-10-04 17:55+01:00\",\"actualTimeLocal\":\"2022-10-04 18:18+01:00\",\"scheduledTimeUtc\":\"2022-10-04 16:55Z\",\"actualTimeUtc\":\"2022-10-04 17:18Z\",\"terminal\":\"1\",\"quality\":[\"Basic\",\"Live\"]},\"arrival\":{\"scheduledTimeLocal\":\"2022-10-04 22:20+02:00\",\"scheduledTimeUtc\":\"2022-10-04 20:20Z\",\"terminal\":\"1\",\"quality\":[\"Basic\"]},\"number\":\"TP 532\",\"status\":\"Expected\",\"codeshareStatus\":\"Unknown\",\"isCargo\":false,\"aircraft\":{\"model\":\"Embraer 190\"},\"airline\":{\"name\":\"TAP Air Portugal\"}},{\"departure\":{\"airport\":{\"icao\":\"LIRN\",\"iata\":\"NAP\",\"name\":\"Nápoli\"},\"scheduledTimeLocal\":\"2022-10-04 19:55+02:00\",\"scheduledTimeUtc\":\"2022-10-04 17:55Z\",\"quality\":[\"Basic\"]},\"arrival\":{\"scheduledTimeLocal\":\"2022-10-04 22:15+02:00\",\"scheduledTimeUtc\":\"2022-10-04 20:15Z\",\"terminal\":\"1\",\"quality\":[\"Basic\"]},\"number\":\"U2 4576\",\"status\":\"Unknown\",\"codeshareStatus\":\"Unknown\",\"isCargo\":false,\"aircraft\":{\"model\":\"Airbus A319\"},\"airline\":{\"name\":\"easyJet\"}},{\"departure\":{\"airport\":{\"name\":\"Paris\"},\"quality\":[]},\"arrival\":{\"scheduledTimeLocal\":\"2022-10-04 22:15+02:00\",\"scheduledTimeUtc\":\"2022-10-04 20:15Z\",\"terminal\":\"1\",\"quality\":[\"Basic\"]},\"number\":\"U2 5540\",\"status\":\"Unknown\",\"codeshareStatus\":\"Unknown\",\"isCargo\":false,\"aircraft\":{\"model\":\"Airbus A319\"},\"airline\":{\"name\":\"easyJet\"}},{\"departure\":{\"airport\":{\"icao\":\"LIEE\",\"iata\":\"CAG\",\"name\":\"Cagliari\"},\"scheduledTimeLocal\":\"2022-10-04 19:25+02:00\",\"scheduledTimeUtc\":\"2022-10-04 17:25Z\",\"quality\":[\"Basic\"]},\"arrival\":{\"scheduledTimeLocal\":\"2022-10-04 22:00+02:00\",\"scheduledTimeUtc\":\"2022-10-04 20:00Z\",\"terminal\":\"1\",\"quality\":[\"Basic\"]},\"number\":\"U2 5662\",\"status\":\"Unknown\",\"codeshareStatus\":\"Unknown\",\"isCargo\":false,\"aircraft\":{\"model\":\"Airbus A320\"},\"airline\":{\"name\":\"easyJet\"}},{\"departure\":{\"airport\":{\"icao\":\"EHAM\",\"iata\":\"AMS\",\"name\":\"Amsterdam\"},\"scheduledTimeLocal\":\"2022-10-04 22:05+02:00\",\"actualTimeLocal\":\"2022-10-04 22:06+02:00\",\"scheduledTimeUtc\":\"2022-10-04 20:05Z\",\"actualTimeUtc\":\"2022-10-04 20:06Z\",\"terminal\":\"1\",\"checkInDesk\":\"6-8\",\"gate\":\"C16\",\"quality\":[\"Basic\",\"Live\"]},\"arrival\":{\"scheduledTimeLocal\":\"2022-10-04 23:20+02:00\",\"scheduledTimeUtc\":\"2022-10-04 21:20Z\",\"terminal\":\"1\",\"quality\":[\"Basic\"]},\"number\":\"KL 1835\",\"status\":\"Expected\",\"codeshareStatus\":\"Unknown\",\"isCargo\":false,\"aircraft\":{\"reg\":\"PH-BXM\",\"modeS\":\"484165\",\"model\":\"Boeing 737-800\"},\"airline\":{\"name\":\"KLM\"}},{\"departure\":{\"airport\":{\"icao\":\"LTBJ\",\"iata\":\"ADB\",\"name\":\"İzmir\"},\"scheduledTimeLocal\":\"2022-10-05 03:45+03:00\",\"actualTimeLocal\":\"2022-10-05 04:00+03:00\",\"scheduledTimeUtc\":\"2022-10-05 00:45Z\",\"actualTimeUtc\":\"2022-10-05 01:00Z\",\"terminal\":\"I\",\"checkInDesk\":\"21\",\"gate\":\"29\",\"quality\":[\"Basic\",\"Live\"]},\"arrival\":{\"scheduledTimeLocal\":\"2022-10-05 05:45+02:00\",\"scheduledTimeUtc\":\"2022-10-05 03:45Z\",\"terminal\":\"1\",\"quality\":[\"Basic\"]},\"number\":\"XQ 966\",\"callSign\":\"SXS5DY\",\"status\":\"Expected\",\"codeshareStatus\":\"IsOperator\",\"isCargo\":false,\"aircraft\":{\"reg\":\"TC-SNT\",\"modeS\":\"4BCDD4\",\"model\":\"Boeing 737-800\"},\"airline\":{\"name\":\"SunExpress\"}},{\"departure\":{\"airport\":{\"icao\":\"KLAX\",\"iata\":\"LAX\",\"name\":\"Los Angeles\"},\"scheduledTimeLocal\":\"2022-10-04 10:57-07:00\",\"actualTimeLocal\":\"2022-10-04 10:57-07:00\",\"runwayTimeLocal\":\"2022-10-04 10:57-07:00\",\"scheduledTimeUtc\":\"2022-10-04 17:57Z\",\"actualTimeUtc\":\"2022-10-04 17:57Z\",\"runwayTimeUtc\":\"2022-10-04 17:57Z\",\"quality\":[\"Basic\",\"Live\"]},\"arrival\":{\"scheduledTimeLocal\":\"2022-10-05 06:14+02:00\",\"scheduledTimeUtc\":\"2022-10-05 04:14Z\",\"quality\":[\"Basic\"]},\"number\":\"NBT 612\",\"callSign\":\"NBT612\",\"status\":\"Expected\",\"codeshareStatus\":\"IsOperator\",\"isCargo\":false,\"aircraft\":{\"reg\":\"LN-FNJ\",\"modeS\":\"47AEC6\",\"model\":\"Boeing 787-9\"},\"airline\":{\"name\":\"NBT\"}},{\"departure\":{\"airport\":{\"icao\":\"OTHH\",\"iata\":\"DOH\",\"name\":\"Doha\"},\"scheduledTimeLocal\":\"2022-10-05 03:10+03:00\",\"scheduledTimeUtc\":\"2022-10-05 00:10Z\",\"quality\":[\"Basic\"]},\"arrival\":{\"scheduledTimeLocal\":\"2022-10-05 06:50+02:00\",\"scheduledTimeUtc\":\"2022-10-05 04:50Z\",\"terminal\":\"1\",\"quality\":[\"Basic\"]},\"number\":\"QR 79\",\"status\":\"Unknown\",\"codeshareStatus\":\"IsOperator\",\"isCargo\":false,\"aircraft\":{\"model\":\"Boeing 787-8\"},\"airline\":{\"name\":\"Qatar Airways\"}},{\"departure\":{\"airport\":{\"icao\":\"EDDS\",\"iata\":\"STR\",\"name\":\"Stuttgart\"},\"scheduledTimeLocal\":\"2022-10-05 06:25+02:00\",\"actualTimeLocal\":\"2022-10-05 06:25+02:00\",\"scheduledTimeUtc\":\"2022-10-05 04:25Z\",\"actualTimeUtc\":\"2022-10-05 04:25Z\",\"terminal\":\"1\",\"gate\":\"324\",\"quality\":[\"Basic\",\"Live\"]},\"arrival\":{\"scheduledTimeLocal\":\"2022-10-05 07:40+02:00\",\"scheduledTimeUtc\":\"2022-10-05 05:40Z\",\"terminal\":\"1\",\"quality\":[\"Basic\"]},\"number\":\"EW 2002\",\"callSign\":\"EWG2002\",\"status\":\"Expected\",\"codeshareStatus\":\"IsOperator\",\"isCargo\":false,\"aircraft\":{\"reg\":\"9H-MLD\",\"modeS\":\"4D23D9\",\"model\":\"Airbus A320\"},\"airline\":{\"name\":\"Eurowings\"}},{\"departure\":{\"airport\":{\"icao\":\"EDDL\",\"iata\":\"DUS\",\"name\":\"Duesseldorf\"},\"scheduledTimeLocal\":\"2022-10-05 06:20+02:00\",\"actualTimeLocal\":\"2022-10-05 06:17+02:00\",\"runwayTimeLocal\":\"2022-10-05 06:27+02:00\",\"scheduledTimeUtc\":\"2022-10-05 04:20Z\",\"actualTimeUtc\":\"2022-10-05 04:17Z\",\"runwayTimeUtc\":\"2022-10-05 04:27Z\",\"terminal\":\"A\",\"checkInDesk\":\"105,110\",\"gate\":\"A52\",\"quality\":[\"Basic\",\"Live\"]},\"arrival\":{\"scheduledTimeLocal\":\"2022-10-05 07:35+02:00\",\"scheduledTimeUtc\":\"2022-10-05 05:35Z\",\"terminal\":\"1\",\"quality\":[\"Basic\"]},\"number\":\"EW 9048\",\"callSign\":\"GWI52FP\",\"status\":\"Expected\",\"codeshareStatus\":\"Unknown\",\"isCargo\":false,\"aircraft\":{\"reg\":\"D-AKNV\",\"modeS\":\"3C6DD6\",\"model\":\"Airbus A319\"},\"airline\":{\"name\":\"Eurowings\"}},{\"departure\":{\"airport\":{\"icao\":\"EDDF\",\"iata\":\"FRA\",\"name\":\"Frankfurt-am-Main\"},\"scheduledTimeLocal\":\"2022-10-05 06:45+02:00\",\"actualTimeLocal\":\"2022-10-05 06:45+02:00\",\"scheduledTimeUtc\":\"2022-10-05 04:45Z\",\"actualTimeUtc\":\"2022-10-05 04:45Z\",\"terminal\":\"1\",\"checkInDesk\":\"263-461\",\"gate\":\"A13\",\"quality\":[\"Basic\",\"Live\"]},\"arrival\":{\"scheduledTimeLocal\":\"2022-10-05 07:55+02:00\",\"scheduledTimeUtc\":\"2022-10-05 05:55Z\",\"terminal\":\"1\",\"quality\":[\"Basic\"]},\"number\":\"LH 170\",\"status\":\"Expected\",\"codeshareStatus\":\"Unknown\",\"isCargo\":false,\"aircraft\":{\"reg\":\"D-AIRF\",\"modeS\":\"3C6646\",\"model\":\"Airbus A321\"},\"airline\":{\"name\":\"Lufthansa\"}},{\"departure\":{\"airport\":{\"icao\":\"EDDM\",\"iata\":\"MUC\",\"name\":\"Munich\"},\"scheduledTimeLocal\":\"2022-10-05 06:30+02:00\",\"actualTimeLocal\":\"2022-10-05 06:30+02:00\",\"scheduledTimeUtc\":\"2022-10-05 04:30Z\",\"actualTimeUtc\":\"2022-10-05 04:30Z\",\"terminal\":\"2\",\"quality\":[\"Basic\",\"Live\"]},\"arrival\":{\"scheduledTimeLocal\":\"2022-10-05 07:35+02:00\",\"scheduledTimeUtc\":\"2022-10-05 05:35Z\",\"terminal\":\"1\",\"quality\":[\"Basic\"]},\"number\":\"LH 1926\",\"status\":\"Expected\",\"codeshareStatus\":\"IsOperator\",\"isCargo\":false,\"aircraft\":{\"model\":\"Airbus A320\"},\"airline\":{\"name\":\"Lufthansa\"}},{\"departure\":{\"airport\":{\"icao\":\"LFPG\",\"iata\":\"CDG\",\"name\":\"Paris\"},\"scheduledTimeLocal\":\"2022-10-05 06:05+02:00\",\"scheduledTimeUtc\":\"2022-10-05 04:05Z\",\"terminal\":\"2B\",\"quality\":[\"Basic\"]},\"arrival\":{\"scheduledTimeLocal\":\"2022-10-05 07:55+02:00\",\"scheduledTimeUtc\":\"2022-10-05 05:55Z\",\"terminal\":\"1\",\"quality\":[\"Basic\"]},\"number\":\"U2 5674\",\"status\":\"Unknown\",\"codeshareStatus\":\"Unknown\",\"isCargo\":false,\"aircraft\":{\"model\":\"Airbus A320\"},\"airline\":{\"name\":\"easyJet\"}},{\"departure\":{\"airport\":{\"icao\":\"KEWR\",\"iata\":\"EWR\",\"name\":\"Newark\"},\"scheduledTimeLocal\":\"2022-10-04 17:50-04:00\",\"actualTimeLocal\":\"2022-10-04 18:53-04:00\",\"runwayTimeLocal\":\"2022-10-04 18:53-04:00\",\"scheduledTimeUtc\":\"2022-10-04 21:50Z\",\"actualTimeUtc\":\"2022-10-04 22:53Z\",\"runwayTimeUtc\":\"2022-10-04 22:53Z\",\"terminal\":\"C\",\"quality\":[\"Basic\",\"Live\"]},\"arrival\":{\"scheduledTimeLocal\":\"2022-10-05 07:50+02:00\",\"scheduledTimeUtc\":\"2022-10-05 05:50Z\",\"terminal\":\"1\",\"quality\":[\"Basic\"]},\"number\":\"UA 962\",\"callSign\":\"UAL962\",\"status\":\"Expected\",\"codeshareStatus\":\"IsOperator\",\"isCargo\":false,\"aircraft\":{\"reg\":\"N77066\",\"modeS\":\"AA6C50\",\"model\":\"Boeing 767-400\"},\"airline\":{\"name\":\"United\"}}]}\n"
     ]
    }
   ],
   "source": [
    "# your code here\n",
    "\n",
    "url = \"https://aerodatabox.p.rapidapi.com/flights/airports/icao/EDDB/2022-10-04T20:00/2022-10-05T08:00\"\n",
    "\n",
    "querystring = {\"withLeg\":\"true\",\"direction\":\"Arrival\",\"withCancelled\":\"false\",\"withCodeshared\":\"false\",\"withCargo\":\"false\",\"withPrivate\":\"false\",\"withLocation\":\"false\"}\n",
    "\n",
    "headers = {\n",
    "\t\"X-RapidAPI-Key\": \"4cea24a7b1msh913cfb4bb02d7fap129548jsne33a1520a95c\",\n",
    "\t\"X-RapidAPI-Host\": \"aerodatabox.p.rapidapi.com\"\n",
    "}\n",
    "\n",
    "response = requests.request(\"GET\", url, headers=headers, params=querystring)\n",
    "\n",
    "print(response.text)"
   ]
  },
  {
   "cell_type": "code",
   "execution_count": null,
   "metadata": {},
   "outputs": [],
   "source": [
    "display(JSON(response.json()))"
   ]
  },
  {
   "cell_type": "code",
   "execution_count": 19,
   "metadata": {},
   "outputs": [
    {
     "data": {
      "text/plain": [
       "datetime.date(2023, 3, 31)"
      ]
     },
     "execution_count": 19,
     "metadata": {},
     "output_type": "execute_result"
    }
   ],
   "source": [
    "today= datetime.now().astimezone(timezone('Europe/Berlin')).date()\n",
    "today"
   ]
  },
  {
   "cell_type": "code",
   "execution_count": 20,
   "metadata": {},
   "outputs": [
    {
     "data": {
      "text/plain": [
       "datetime.date(2023, 4, 1)"
      ]
     },
     "execution_count": 20,
     "metadata": {},
     "output_type": "execute_result"
    }
   ],
   "source": [
    "   tomorrow = ( today+timedelta(days=1))"
   ]
  },
  {
   "cell_type": "code",
   "execution_count": 21,
   "metadata": {},
   "outputs": [],
   "source": [
    "#copehagen icao :EKCH\n",
    "#Vienna icao: LOWW"
   ]
  },
  {
   "cell_type": "code",
   "execution_count": 22,
   "metadata": {},
   "outputs": [],
   "source": [
    "def tomorrows_flight_arrivals(icao_list):\n",
    "\n",
    "  today = datetime.now().astimezone(timezone('Europe/Berlin')).date()\n",
    "  tomorrow = (today + timedelta(days=1))\n",
    "\n",
    "  list_for_df = []\n",
    "\n",
    "  for icao in icao_list:\n",
    "    times = [[\"00:00\",\"11:59\"],[\"12:00\",\"23:59\"]]\n",
    "\n",
    "    for time in times:\n",
    "      url = f\"https://aerodatabox.p.rapidapi.com/flights/airports/icao/{icao}/{tomorrow}T{time[0]}/{tomorrow}T{time[1]}\"\n",
    "      querystring = {\"withLeg\":\"true\",\"direction\":\"Arrival\",\"withCancelled\":\"false\",\"withCodeshared\":\"true\",\"withCargo\":\"false\",\"withPrivate\":\"false\"}\n",
    "      headers = {\n",
    "          'x-rapidapi-host': \"aerodatabox.p.rapidapi.com\",\n",
    "          'x-rapidapi-key': \"4cea24a7b1msh913cfb4bb02d7fap129548jsne33a1520a95c\"\n",
    "          }\n",
    "      response = requests.request(\"GET\", url, headers=headers, params=querystring)\n",
    "      flights_json = response.json()\n",
    "\n",
    "      for flight in flights_json['arrivals']:\n",
    "        flights_dict = {}\n",
    "        flights_dict['arrival_icao'] = icao\n",
    "        # .get() is another way of ensuring our code doesn't break\n",
    "        # in the previous 2 notebooks you learnt about 'if' (cities) and 'try/except' (weather)\n",
    "        # .get() works similar, it will get the text if possible, if there is no text a None value will be inserted instead\n",
    "        flights_dict['arrival_time_local'] = flight['arrival'].get('scheduledTimeLocal', None)\n",
    "        flights_dict['arrival_terminal'] = flight['arrival'].get('terminal', None)\n",
    "        flights_dict['departure_city'] = flight['departure']['airport'].get('name', None)\n",
    "        flights_dict['departure_icao'] = flight['departure']['airport'].get('icao', None)\n",
    "        flights_dict['departure_time_local'] = flight['departure'].get('scheduledTimeLocal', None)\n",
    "        flights_dict['airline'] = flight['airline'].get('name', None)\n",
    "        flights_dict['flight_number'] = flight.get('number', None)\n",
    "        flights_dict['data_retrieved_on'] = datetime.now().astimezone(timezone('Europe/Berlin')).date()\n",
    "        list_for_df.append(flights_dict)\n",
    "\n",
    "  return pd.DataFrame(list_for_df)"
   ]
  },
  {
   "cell_type": "code",
   "execution_count": 23,
   "metadata": {},
   "outputs": [],
   "source": [
    "icaos = ['EDDB', 'LOWW'] \n"
   ]
  },
  {
   "cell_type": "code",
   "execution_count": 24,
   "metadata": {
    "scrolled": true
   },
   "outputs": [
    {
     "data": {
      "text/html": [
       "<div>\n",
       "<style scoped>\n",
       "    .dataframe tbody tr th:only-of-type {\n",
       "        vertical-align: middle;\n",
       "    }\n",
       "\n",
       "    .dataframe tbody tr th {\n",
       "        vertical-align: top;\n",
       "    }\n",
       "\n",
       "    .dataframe thead th {\n",
       "        text-align: right;\n",
       "    }\n",
       "</style>\n",
       "<table border=\"1\" class=\"dataframe\">\n",
       "  <thead>\n",
       "    <tr style=\"text-align: right;\">\n",
       "      <th></th>\n",
       "      <th>arrival_icao</th>\n",
       "      <th>arrival_time_local</th>\n",
       "      <th>arrival_terminal</th>\n",
       "      <th>departure_city</th>\n",
       "      <th>departure_icao</th>\n",
       "      <th>departure_time_local</th>\n",
       "      <th>airline</th>\n",
       "      <th>flight_number</th>\n",
       "      <th>data_retrieved_on</th>\n",
       "    </tr>\n",
       "  </thead>\n",
       "  <tbody>\n",
       "    <tr>\n",
       "      <th>0</th>\n",
       "      <td>EDDB</td>\n",
       "      <td>2023-04-01 05:45+02:00</td>\n",
       "      <td>1</td>\n",
       "      <td>İzmir</td>\n",
       "      <td>LTBJ</td>\n",
       "      <td>2023-04-01 03:40+03:00</td>\n",
       "      <td>SunExpress</td>\n",
       "      <td>XQ 966</td>\n",
       "      <td>2023-03-31</td>\n",
       "    </tr>\n",
       "    <tr>\n",
       "      <th>1</th>\n",
       "      <td>EDDB</td>\n",
       "      <td>2023-04-01 07:40+02:00</td>\n",
       "      <td>1</td>\n",
       "      <td>Riga</td>\n",
       "      <td>EVRA</td>\n",
       "      <td>2023-04-01 07:05+03:00</td>\n",
       "      <td>Air Baltic</td>\n",
       "      <td>BT 211</td>\n",
       "      <td>2023-03-31</td>\n",
       "    </tr>\n",
       "    <tr>\n",
       "      <th>2</th>\n",
       "      <td>EDDB</td>\n",
       "      <td>2023-04-01 07:45+02:00</td>\n",
       "      <td>0</td>\n",
       "      <td>Bologna</td>\n",
       "      <td>LIPE</td>\n",
       "      <td>2023-04-01 06:00+02:00</td>\n",
       "      <td>Ryanair</td>\n",
       "      <td>FR 137</td>\n",
       "      <td>2023-03-31</td>\n",
       "    </tr>\n",
       "    <tr>\n",
       "      <th>3</th>\n",
       "      <td>EDDB</td>\n",
       "      <td>2023-04-01 07:55+02:00</td>\n",
       "      <td>1</td>\n",
       "      <td>Frankfurt-am-Main</td>\n",
       "      <td>EDDF</td>\n",
       "      <td>2023-04-01 06:45+02:00</td>\n",
       "      <td>Lufthansa</td>\n",
       "      <td>LH 170</td>\n",
       "      <td>2023-03-31</td>\n",
       "    </tr>\n",
       "    <tr>\n",
       "      <th>4</th>\n",
       "      <td>EDDB</td>\n",
       "      <td>2023-04-01 07:55+02:00</td>\n",
       "      <td>2</td>\n",
       "      <td>Paris</td>\n",
       "      <td>LFPO</td>\n",
       "      <td>2023-04-01 06:10+02:00</td>\n",
       "      <td>Transavia France</td>\n",
       "      <td>TO 3402</td>\n",
       "      <td>2023-03-31</td>\n",
       "    </tr>\n",
       "    <tr>\n",
       "      <th>...</th>\n",
       "      <td>...</td>\n",
       "      <td>...</td>\n",
       "      <td>...</td>\n",
       "      <td>...</td>\n",
       "      <td>...</td>\n",
       "      <td>...</td>\n",
       "      <td>...</td>\n",
       "      <td>...</td>\n",
       "      <td>...</td>\n",
       "    </tr>\n",
       "    <tr>\n",
       "      <th>542</th>\n",
       "      <td>LOWW</td>\n",
       "      <td>2023-04-01 23:00+02:00</td>\n",
       "      <td>0</td>\n",
       "      <td>Barcelona</td>\n",
       "      <td>LEBL</td>\n",
       "      <td>2023-04-01 20:30+02:00</td>\n",
       "      <td>Ryanair</td>\n",
       "      <td>FR 7351</td>\n",
       "      <td>2023-03-31</td>\n",
       "    </tr>\n",
       "    <tr>\n",
       "      <th>543</th>\n",
       "      <td>LOWW</td>\n",
       "      <td>2023-04-01 23:05+02:00</td>\n",
       "      <td>0</td>\n",
       "      <td>Fuerteventura Island</td>\n",
       "      <td>GCFV</td>\n",
       "      <td>2023-04-01 17:25+01:00</td>\n",
       "      <td>Ryanair</td>\n",
       "      <td>FR 744</td>\n",
       "      <td>2023-03-31</td>\n",
       "    </tr>\n",
       "    <tr>\n",
       "      <th>544</th>\n",
       "      <td>LOWW</td>\n",
       "      <td>2023-04-01 23:00+02:00</td>\n",
       "      <td>0</td>\n",
       "      <td>Copenhagen</td>\n",
       "      <td>EKCH</td>\n",
       "      <td>2023-04-01 21:15+02:00</td>\n",
       "      <td>Ryanair</td>\n",
       "      <td>FR 9888</td>\n",
       "      <td>2023-03-31</td>\n",
       "    </tr>\n",
       "    <tr>\n",
       "      <th>545</th>\n",
       "      <td>LOWW</td>\n",
       "      <td>2023-04-01 23:10+02:00</td>\n",
       "      <td>3</td>\n",
       "      <td>Frankfurt-am-Main</td>\n",
       "      <td>EDDF</td>\n",
       "      <td>2023-04-01 21:50+02:00</td>\n",
       "      <td>Austrian</td>\n",
       "      <td>OS 220</td>\n",
       "      <td>2023-03-31</td>\n",
       "    </tr>\n",
       "    <tr>\n",
       "      <th>546</th>\n",
       "      <td>LOWW</td>\n",
       "      <td>2023-04-01 23:05+02:00</td>\n",
       "      <td>3</td>\n",
       "      <td>Rome</td>\n",
       "      <td>LIRF</td>\n",
       "      <td>2023-04-01 21:30+02:00</td>\n",
       "      <td>Austrian</td>\n",
       "      <td>OS 506</td>\n",
       "      <td>2023-03-31</td>\n",
       "    </tr>\n",
       "  </tbody>\n",
       "</table>\n",
       "<p>547 rows × 9 columns</p>\n",
       "</div>"
      ],
      "text/plain": [
       "    arrival_icao      arrival_time_local arrival_terminal  \\\n",
       "0           EDDB  2023-04-01 05:45+02:00                1   \n",
       "1           EDDB  2023-04-01 07:40+02:00                1   \n",
       "2           EDDB  2023-04-01 07:45+02:00                0   \n",
       "3           EDDB  2023-04-01 07:55+02:00                1   \n",
       "4           EDDB  2023-04-01 07:55+02:00                2   \n",
       "..           ...                     ...              ...   \n",
       "542         LOWW  2023-04-01 23:00+02:00                0   \n",
       "543         LOWW  2023-04-01 23:05+02:00                0   \n",
       "544         LOWW  2023-04-01 23:00+02:00                0   \n",
       "545         LOWW  2023-04-01 23:10+02:00                3   \n",
       "546         LOWW  2023-04-01 23:05+02:00                3   \n",
       "\n",
       "           departure_city departure_icao    departure_time_local  \\\n",
       "0                   İzmir           LTBJ  2023-04-01 03:40+03:00   \n",
       "1                    Riga           EVRA  2023-04-01 07:05+03:00   \n",
       "2                 Bologna           LIPE  2023-04-01 06:00+02:00   \n",
       "3       Frankfurt-am-Main           EDDF  2023-04-01 06:45+02:00   \n",
       "4                   Paris           LFPO  2023-04-01 06:10+02:00   \n",
       "..                    ...            ...                     ...   \n",
       "542             Barcelona           LEBL  2023-04-01 20:30+02:00   \n",
       "543  Fuerteventura Island           GCFV  2023-04-01 17:25+01:00   \n",
       "544            Copenhagen           EKCH  2023-04-01 21:15+02:00   \n",
       "545     Frankfurt-am-Main           EDDF  2023-04-01 21:50+02:00   \n",
       "546                  Rome           LIRF  2023-04-01 21:30+02:00   \n",
       "\n",
       "              airline flight_number data_retrieved_on  \n",
       "0          SunExpress        XQ 966        2023-03-31  \n",
       "1          Air Baltic        BT 211        2023-03-31  \n",
       "2             Ryanair        FR 137        2023-03-31  \n",
       "3           Lufthansa        LH 170        2023-03-31  \n",
       "4    Transavia France       TO 3402        2023-03-31  \n",
       "..                ...           ...               ...  \n",
       "542           Ryanair       FR 7351        2023-03-31  \n",
       "543           Ryanair        FR 744        2023-03-31  \n",
       "544           Ryanair       FR 9888        2023-03-31  \n",
       "545          Austrian        OS 220        2023-03-31  \n",
       "546          Austrian        OS 506        2023-03-31  \n",
       "\n",
       "[547 rows x 9 columns]"
      ]
     },
     "execution_count": 24,
     "metadata": {},
     "output_type": "execute_result"
    }
   ],
   "source": [
    "tomorrows_flight_arrivals(icaos) "
   ]
  },
  {
   "cell_type": "markdown",
   "metadata": {},
   "source": [
    "# Establishing connection from pandas to the sql"
   ]
  },
  {
   "cell_type": "code",
   "execution_count": 25,
   "metadata": {},
   "outputs": [
    {
     "name": "stdout",
     "output_type": "stream",
     "text": [
      "Requirement already satisfied: pymysql in /Users/Priyatam/opt/anaconda3/lib/python3.9/site-packages (1.0.3)\r\n"
     ]
    }
   ],
   "source": [
    "!pip install pymysql\n",
    "import sqlalchemy"
   ]
  },
  {
   "cell_type": "code",
   "execution_count": 26,
   "metadata": {},
   "outputs": [],
   "source": [
    "schema=\"gans\"   # name of the database you want to use here\n",
    "host=\"127.0.0.1\"        # to connect to your local server\n",
    "user=\"root\"\n",
    "password=\"1234\" # your password!!!!\n",
    "port=3306\n",
    "connection_details = f'mysql+pymysql://{user}:{password}@{host}:{port}/{schema}'"
   ]
  },
  {
   "cell_type": "code",
   "execution_count": 28,
   "metadata": {},
   "outputs": [
    {
     "data": {
      "text/plain": [
       "547"
      ]
     },
     "execution_count": 28,
     "metadata": {},
     "output_type": "execute_result"
    }
   ],
   "source": [
    "tomorrows_flight_arrivals(icaos).to_sql('flights',con=connection_details,if_exists='append',index=False)"
   ]
  },
  {
   "cell_type": "code",
   "execution_count": null,
   "metadata": {},
   "outputs": [],
   "source": []
  }
 ],
 "metadata": {
  "colab": {
   "provenance": []
  },
  "kernelspec": {
   "display_name": "Python 3 (ipykernel)",
   "language": "python",
   "name": "python3"
  },
  "language_info": {
   "codemirror_mode": {
    "name": "ipython",
    "version": 3
   },
   "file_extension": ".py",
   "mimetype": "text/x-python",
   "name": "python",
   "nbconvert_exporter": "python",
   "pygments_lexer": "ipython3",
   "version": "3.9.13"
  }
 },
 "nbformat": 4,
 "nbformat_minor": 1
}
