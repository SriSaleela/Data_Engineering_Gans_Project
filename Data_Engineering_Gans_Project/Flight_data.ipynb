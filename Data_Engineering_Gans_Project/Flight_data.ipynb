{
 "cells": [
  {
   "cell_type": "markdown",
   "metadata": {
    "id": "Wu99MtE0j0za"
   },
   "source": [
    "So far we've learnt how to scrape the web, and how to make a request for information from an API. Some websites make APIs even easier. Check out [RapidAPI](https://rapidapi.com/) they take care of writing most of the code for you.\n",
    "\n",
    "We will use the [AeroDataBox API](https://rapidapi.com/aedbx-aedbx/api/aerodatabox/), which can retrieve all sorts of information about flights and airports. We will show you how to retrieve information about the airports, and then it's up to you to apply this, along with what you've already learnt this week, to **produce a function, which retrieves tomorrows flight information for the major airports in the cities you web scraped**."
   ]
  },
  {
   "cell_type": "code",
   "execution_count": 1,
   "metadata": {
    "id": "lIYdn1woOS1n"
   },
   "outputs": [],
   "source": [
    "import pandas as pd\n",
    "import requests"
   ]
  },
  {
   "cell_type": "markdown",
   "metadata": {
    "id": "_xaphJ-ElsfW"
   },
   "source": [
    "On the left hand side of the AeroDataBox API page, you'll see a list of options for information that you can retrieve:\n",
    "> - Flights API\n",
    "- Subsciption / PUSH API\n",
    "- Airport API\n",
    "- Aircraft API\n",
    "- Healthcheck & Status API\n",
    "\n",
    "1. We want to select `Airport API`\n",
    "\n",
    "2. Then within Airport API we want to select `Search airports by location`\n",
    "\n",
    "3. Now in the middle third you'll want to enter the `latitude` and `longitude` of any city to test... we chose Berlin: latitude 52.31 longitude 13.24. Next we changed the `radiusKM` to only 50km. And finally set `withFlightInfoOnly` to true, so it will only return airports which have flight data (scheduled or live) available.\n",
    "\n",
    "4. On the right hand third of the screen you should see a block of code that looks pretty unfamiliar. This is because by default the code is probably set to *(Node.js) Axios*. However, we have the power to change this to familiar python. Select the dropdown box at the top of the code and select `python > requests`.\n",
    "\n",
    "Now you can copy the code to your notebook and it should look a little something like the cell below:"
   ]
  },
  {
   "cell_type": "code",
   "execution_count": 2,
   "metadata": {
    "id": "vpne9C0Pq2ht",
    "outputId": "469633c6-4a2c-4369-d9e2-979f7ed3098e"
   },
   "outputs": [
    {
     "name": "stdout",
     "output_type": "stream",
     "text": [
      "{\"searchBy\":{\"lat\":52.31,\"lon\":13.24},\"items\":[{\"icao\":\"EDDB\",\"iata\":\"BER\",\"name\":\"Berlin, Berlin Brandenburg\",\"shortName\":\"Brandenburg\",\"municipalityName\":\"Berlin\",\"location\":{\"lat\":52.35139,\"lon\":13.493889},\"countryCode\":\"DE\"}]}\n"
     ]
    }
   ],
   "source": [
    "url = \"https://aerodatabox.p.rapidapi.com/airports/search/location\"\n",
    "\n",
    "querystring = {\"lat\":\"52.31\",\"lon\":\"13.24\",\"radiusKm\":\"50\",\"limit\":\"10\",\"withFlightInfoOnly\":\"true\"}\n",
    "\n",
    "headers = {\n",
    "\t\"X-RapidAPI-Key\": \"Your API Key\",\n",
    "\t\"X-RapidAPI-Host\": \"aerodatabox.p.rapidapi.com\"\n",
    "}\n",
    "\n",
    "response = requests.request(\"GET\", url, headers=headers, params=querystring)\n",
    "\n",
    "print(response.text)"
   ]
  },
  {
   "cell_type": "markdown",
   "metadata": {
    "id": "ZImplZC7q2ht"
   },
   "source": [
    "Let's view the response as `.json()` instead of `.text` so that it's easier to read"
   ]
  },
  {
   "cell_type": "code",
   "execution_count": 3,
   "metadata": {
    "id": "QY1lrc5Xq2hu",
    "outputId": "3cfe4873-7e7d-4ae0-8be8-1279ae67d64a"
   },
   "outputs": [
    {
     "name": "stdout",
     "output_type": "stream",
     "text": [
      "<bound method Response.json of <Response [200]>>\n"
     ]
    }
   ],
   "source": [
    "print(response.json)"
   ]
  },
  {
   "cell_type": "code",
   "execution_count": null,
   "metadata": {},
   "outputs": [],
   "source": [
    "from IPython.display \n",
    "import JSON"
   ]
  },
  {
   "cell_type": "code",
   "execution_count": null,
   "metadata": {},
   "outputs": [],
   "source": [
    "display(JSON(response.json()))"
   ]
  },
  {
   "cell_type": "markdown",
   "metadata": {
    "id": "MDATiWNaq2hu"
   },
   "source": [
    "We can now turn this into a dataframe using `.json_normalize()`"
   ]
  },
  {
   "cell_type": "code",
   "execution_count": 6,
   "metadata": {
    "id": "kvA3W6ysq2hu",
    "outputId": "beb35343-dd4a-4fcd-919f-f29dbedd46d8"
   },
   "outputs": [
    {
     "data": {
      "text/html": [
       "<div>\n",
       "<style scoped>\n",
       "    .dataframe tbody tr th:only-of-type {\n",
       "        vertical-align: middle;\n",
       "    }\n",
       "\n",
       "    .dataframe tbody tr th {\n",
       "        vertical-align: top;\n",
       "    }\n",
       "\n",
       "    .dataframe thead th {\n",
       "        text-align: right;\n",
       "    }\n",
       "</style>\n",
       "<table border=\"1\" class=\"dataframe\">\n",
       "  <thead>\n",
       "    <tr style=\"text-align: right;\">\n",
       "      <th></th>\n",
       "      <th>icao</th>\n",
       "      <th>iata</th>\n",
       "      <th>name</th>\n",
       "      <th>shortName</th>\n",
       "      <th>municipalityName</th>\n",
       "      <th>countryCode</th>\n",
       "      <th>location.lat</th>\n",
       "      <th>location.lon</th>\n",
       "    </tr>\n",
       "  </thead>\n",
       "  <tbody>\n",
       "    <tr>\n",
       "      <th>0</th>\n",
       "      <td>EDDB</td>\n",
       "      <td>BER</td>\n",
       "      <td>Berlin, Berlin Brandenburg</td>\n",
       "      <td>Brandenburg</td>\n",
       "      <td>Berlin</td>\n",
       "      <td>DE</td>\n",
       "      <td>52.35139</td>\n",
       "      <td>13.493889</td>\n",
       "    </tr>\n",
       "  </tbody>\n",
       "</table>\n",
       "</div>"
      ],
      "text/plain": [
       "   icao iata                        name    shortName municipalityName  \\\n",
       "0  EDDB  BER  Berlin, Berlin Brandenburg  Brandenburg           Berlin   \n",
       "\n",
       "  countryCode  location.lat  location.lon  \n",
       "0          DE      52.35139     13.493889  "
      ]
     },
     "execution_count": 6,
     "metadata": {},
     "output_type": "execute_result"
    }
   ],
   "source": [
    "pd.json_normalize(response.json()['items'])"
   ]
  },
  {
   "cell_type": "markdown",
   "metadata": {
    "id": "Q47nbbH0I3Xt"
   },
   "source": [
    "Let's now use this for the latitude and longitude of multiple cities"
   ]
  },
  {
   "cell_type": "code",
   "execution_count": 7,
   "metadata": {
    "id": "96k9wtmmq2hv"
   },
   "outputs": [],
   "source": [
    "lat = [52.3112, 51.3026]\n",
    "lon = [13.2418, 0.739]\n",
    "\n",
    "list_for_df_airports = []\n",
    "\n",
    "for i in range(len(lat)):\n",
    "    url = \"https://aerodatabox.p.rapidapi.com/airports/search/location\"\n",
    "\n",
    "    querystring = {\"lat\":lat[i],\"lon\":lon[i],\"radiusKm\":\"50\",\"limit\":\"10\",\"withFlightInfoOnly\":\"true\"}\n",
    "\n",
    "    headers = {\n",
    "        \"X-RapidAPI-Key\": \"your api key",\n",
    "        \"X-RapidAPI-Host\": \"aerodatabox.p.rapidapi.com\"\n",
    "    }\n",
    "\n",
    "    response = requests.request(\"GET\", url, headers=headers, params=querystring)\n",
    "    \n",
    "    list_for_df_airports.append(response.json()['items'])"
   ]
  },
  {
   "cell_type": "code",
   "execution_count": 8,
   "metadata": {
    "id": "h76lqx8qq2hv"
   },
   "outputs": [],
   "source": [
    "# lat = [52.3112, 51.3026]\n",
    "# lon = [13.2418, 0.739]\n",
    "\n",
    "# list_for_df_airports = []\n",
    "\n",
    "# for i in range(len(lat)):\n",
    "#     url = f\"https://aerodatabox.p.rapidapi.com/airports/search/location/{lat[i]}/{lon[i]}/km/50/10\"\n",
    "\n",
    "#     querystring = {\"withFlightInfoOnly\":\"true\"}\n",
    "\n",
    "#     headers = {\n",
    "#         \"X-RapidAPI-Key\": \"your api key",\n",
    "#         \"X-RapidAPI-Host\": \"aerodatabox.p.rapidapi.com\"\n",
    "#     }\n",
    "\n",
    "#     response = requests.request(\"GET\", url, headers=headers, params=querystring)\n",
    "    \n",
    "#     list_for_df_airports.append(response.json()['items'])"
   ]
  },
  {
   "cell_type": "code",
   "execution_count": 9,
   "metadata": {
    "id": "85DVzx3Gq2hv",
    "outputId": "4898157d-1c3e-4122-ad67-c881197a3cbe"
   },
   "outputs": [
    {
     "data": {
      "text/plain": [
       "[[{'icao': 'EDDB',\n",
       "   'iata': 'BER',\n",
       "   'name': 'Berlin, Berlin Brandenburg',\n",
       "   'shortName': 'Brandenburg',\n",
       "   'municipalityName': 'Berlin',\n",
       "   'location': {'lat': 52.35139, 'lon': 13.493889},\n",
       "   'countryCode': 'DE'}],\n",
       " [{'icao': 'EGMC',\n",
       "   'iata': 'SEN',\n",
       "   'name': 'Southend',\n",
       "   'shortName': 'Southend',\n",
       "   'municipalityName': 'Southend',\n",
       "   'location': {'lat': 51.5714, 'lon': 0.695555},\n",
       "   'countryCode': 'GB'}]]"
      ]
     },
     "execution_count": 9,
     "metadata": {},
     "output_type": "execute_result"
    }
   ],
   "source": [
    "list_for_df_airports"
   ]
  },
  {
   "cell_type": "code",
   "execution_count": 10,
   "metadata": {
    "id": "DTj58I7nq2hw",
    "outputId": "7d9ffc5d-58fe-4412-b1a1-f849ce1f7d5c"
   },
   "outputs": [
    {
     "data": {
      "text/plain": [
       "'EGMC'"
      ]
     },
     "execution_count": 10,
     "metadata": {},
     "output_type": "execute_result"
    }
   ],
   "source": [
    "list_for_df_airports[1][0]['icao']"
   ]
  },
  {
   "cell_type": "code",
   "execution_count": 11,
   "metadata": {
    "id": "lLY8mZxBq2hw",
    "outputId": "1b39d23e-39af-4ac4-f0d5-13ac3e244f54"
   },
   "outputs": [
    {
     "data": {
      "text/plain": [
       "{'icao': 'EDDB', 'name': 'Berlin, Berlin Brandenburg'}"
      ]
     },
     "execution_count": 11,
     "metadata": {},
     "output_type": "execute_result"
    }
   ],
   "source": [
    "airpot_dict = {}\n",
    "airpot_dict['icao'] = list_for_df_airports[0][0]['icao']\n",
    "airpot_dict['name'] = list_for_df_airports[0][0]['name']\n",
    "\n",
    "airpot_dict"
   ]
  },
  {
   "cell_type": "code",
   "execution_count": null,
   "metadata": {
    "id": "R9uc3iarq2hw"
   },
   "outputs": [],
   "source": []
  },
  {
   "cell_type": "code",
   "execution_count": 12,
   "metadata": {
    "id": "KEcgXOlxq2hw"
   },
   "outputs": [],
   "source": [
    "list_for_df = []\n",
    "\n",
    "for i in list_for_df_airports:\n",
    "    airpots_dict = {}\n",
    "    \n",
    "    airpots_dict['icao'] = i[0]['icao']\n",
    "    airpots_dict['name'] = i[0]['name']\n",
    "    list_for_df.append(airpots_dict)"
   ]
  },
  {
   "cell_type": "code",
   "execution_count": 13,
   "metadata": {
    "id": "kxojPuHfq2hw",
    "outputId": "10b27ae1-c587-44e4-f6f0-b3223dec06be"
   },
   "outputs": [
    {
     "data": {
      "text/plain": [
       "[{'icao': 'EDDB', 'name': 'Berlin, Berlin Brandenburg'},\n",
       " {'icao': 'EGMC', 'name': 'Southend'}]"
      ]
     },
     "execution_count": 13,
     "metadata": {},
     "output_type": "execute_result"
    }
   ],
   "source": [
    "list_for_df"
   ]
  },
  {
   "cell_type": "code",
   "execution_count": 14,
   "metadata": {
    "id": "JGpJVL5zq2hw",
    "outputId": "b827c821-a4f5-4baf-85ed-5d2733ab0dc8"
   },
   "outputs": [
    {
     "data": {
      "text/html": [
       "<div>\n",
       "<style scoped>\n",
       "    .dataframe tbody tr th:only-of-type {\n",
       "        vertical-align: middle;\n",
       "    }\n",
       "\n",
       "    .dataframe tbody tr th {\n",
       "        vertical-align: top;\n",
       "    }\n",
       "\n",
       "    .dataframe thead th {\n",
       "        text-align: right;\n",
       "    }\n",
       "</style>\n",
       "<table border=\"1\" class=\"dataframe\">\n",
       "  <thead>\n",
       "    <tr style=\"text-align: right;\">\n",
       "      <th></th>\n",
       "      <th>icao</th>\n",
       "      <th>name</th>\n",
       "    </tr>\n",
       "  </thead>\n",
       "  <tbody>\n",
       "    <tr>\n",
       "      <th>0</th>\n",
       "      <td>EDDB</td>\n",
       "      <td>Berlin, Berlin Brandenburg</td>\n",
       "    </tr>\n",
       "    <tr>\n",
       "      <th>1</th>\n",
       "      <td>EGMC</td>\n",
       "      <td>Southend</td>\n",
       "    </tr>\n",
       "  </tbody>\n",
       "</table>\n",
       "</div>"
      ],
      "text/plain": [
       "   icao                        name\n",
       "0  EDDB  Berlin, Berlin Brandenburg\n",
       "1  EGMC                    Southend"
      ]
     },
     "execution_count": 14,
     "metadata": {},
     "output_type": "execute_result"
    }
   ],
   "source": [
    "airports_df = pd.DataFrame(list_for_df)\n",
    "airports_df"
   ]
  },
  {
   "cell_type": "code",
   "execution_count": 15,
   "metadata": {
    "id": "q0VCPFOmH3vl"
   },
   "outputs": [],
   "source": [
    "def icao_airport_codes(latitudes, longitudes):\n",
    "\n",
    "  #assert len(latitudes) == len(longitudes)\n",
    "  \n",
    "  list_for_df = []\n",
    "\n",
    "  for i in range(len(latitudes)):\n",
    "\n",
    "    url = f\"https://aerodatabox.p.rapidapi.com/airports/search/location/{latitudes[i]}/{longitudes[i]}/km/100/16\"\n",
    "\n",
    "    querystring = {\"withFlightInfoOnly\":\"true\"}\n",
    "\n",
    "    headers = {\n",
    "      \"X-RapidAPI-Host\": \"aerodatabox.p.rapidapi.com\",\n",
    "      \"X-RapidAPI-Key\": \"YOUR_API_KEY_HERE\"\n",
    "    }\n",
    "\n",
    "    response = requests.request(\"GET\", url, headers=headers, params=querystring)\n",
    "\n",
    "    list_for_df.append(pd.json_normalize(response.json()['items']))\n",
    "\n",
    "  return pd.concat(list_for_df, ignore_index=True)"
   ]
  },
  {
   "cell_type": "markdown",
   "metadata": {
    "id": "q3DS1gbq3xG8"
   },
   "source": [
    "###### **Challenge 1:** Icao codes\n",
    "If you use the above for all of your cities, you can create a DataFrame of all the airports and their associated `icao` codes. Perfect for a relational database.\n",
    "\n",
    "###### **Challenge 2:** Arrivals information\n",
    "Using what you have been shown above, plus the skills you've learnt in the last couple of days:\n",
    "1. In `AeroDataBox API` use the `Flight API` > `FIDS/Schedules: Airport departures and arrivals by airport ICAO code` section\n",
    "2. Fill out the parameters in the middle third and then copy the `python: requests` code from the right hand third\n",
    "3. Explore the data you get back. What would be useful in your DataFrame and what can be excluded? Remember Gans wants to know about when people are arriving in the city\n",
    "4. Make a DataFrame from the information you see as important\n",
    "5. Condense everything you did above into a function that can take a list of ICAO codes as an input, and as an output gives you a DataFrame with the information for *tomorrows arrivals*"
   ]
  },
  {
   "cell_type": "code",
   "execution_count": 16,
   "metadata": {},
   "outputs": [],
   "source": [
    "from datetime import datetime, date, timedelta\n",
    "from pytz import timezone\n"
   ]
  },
  {
   "cell_type": "code",
   "execution_count": null,
   "metadata": {},
   "outputs": [],
   "source": [
    "# your code here\n",
    "\n",
    "url = \"https://aerodatabox.p.rapidapi.com/flights/airports/icao/EDDB/2022-10-04T20:00/2022-10-05T08:00\"\n",
    "\n",
    "querystring = {\"withLeg\":\"true\",\"direction\":\"Arrival\",\"withCancelled\":\"false\",\"withCodeshared\":\"false\",\"withCargo\":\"false\",\"withPrivate\":\"false\",\"withLocation\":\"false\"}\n",
    "\n",
    "headers = {\n",
    "\t\"X-RapidAPI-Key\": \"your api key",\n",
    "\t\"X-RapidAPI-Host\": \"aerodatabox.p.rapidapi.com\"\n",
    "}\n",
    "\n",
    "response = requests.request(\"GET\", url, headers=headers, params=querystring)\n",
    "\n",
    "print(response.text)"
   ]
  },
  {
   "cell_type": "code",
   "execution_count": null,
   "metadata": {},
   "outputs": [],
   "source": [
    "display(JSON(response.json()))"
   ]
  },
  {
   "cell_type": "code",
   "execution_count": 19,
   "metadata": {},
   "outputs": [
    {
     "data": {
      "text/plain": [
       "datetime.date(2023, 3, 31)"
      ]
     },
     "execution_count": 19,
     "metadata": {},
     "output_type": "execute_result"
    }
   ],
   "source": [
    "today= datetime.now().astimezone(timezone('Europe/Berlin')).date()\n",
    "today"
   ]
  },
  {
   "cell_type": "code",
   "execution_count": 20,
   "metadata": {},
   "outputs": [
    {
     "data": {
      "text/plain": [
       "datetime.date(2023, 4, 1)"
      ]
     },
     "execution_count": 20,
     "metadata": {},
     "output_type": "execute_result"
    }
   ],
   "source": [
    "   tomorrow = ( today+timedelta(days=1))"
   ]
  },
  {
   "cell_type": "code",
   "execution_count": 22,
   "metadata": {},
   "outputs": [],
   "source": [
    "def tomorrows_flight_arrivals(icao_list):\n",
    "\n",
    "  today = datetime.now().astimezone(timezone('Europe/Berlin')).date()\n",
    "  tomorrow = (today + timedelta(days=1))\n",
    "\n",
    "  list_for_df = []\n",
    "\n",
    "  for icao in icao_list:\n",
    "    times = [[\"00:00\",\"11:59\"],[\"12:00\",\"23:59\"]]\n",
    "\n",
    "    for time in times:\n",
    "      url = f\"https://aerodatabox.p.rapidapi.com/flights/airports/icao/{icao}/{tomorrow}T{time[0]}/{tomorrow}T{time[1]}\"\n",
    "      querystring = {\"withLeg\":\"true\",\"direction\":\"Arrival\",\"withCancelled\":\"false\",\"withCodeshared\":\"true\",\"withCargo\":\"false\",\"withPrivate\":\"false\"}\n",
    "      headers = {\n",
    "          'x-rapidapi-host': \"aerodatabox.p.rapidapi.com\",\n",
    "          'x-rapidapi-key': \"your api key"\n",
    "          }\n",
    "      response = requests.request(\"GET\", url, headers=headers, params=querystring)\n",
    "      flights_json = response.json()\n",
    "\n",
    "      for flight in flights_json['arrivals']:\n",
    "        flights_dict = {}\n",
    "        flights_dict['arrival_icao'] = icao\n",
    "        # .get() is another way of ensuring our code doesn't break\n",
    "        # in the previous 2 notebooks you learnt about 'if' (cities) and 'try/except' (weather)\n",
    "        # .get() works similar, it will get the text if possible, if there is no text a None value will be inserted instead\n",
    "        flights_dict['arrival_time_local'] = flight['arrival'].get('scheduledTimeLocal', None)\n",
    "        flights_dict['arrival_terminal'] = flight['arrival'].get('terminal', None)\n",
    "        flights_dict['departure_city'] = flight['departure']['airport'].get('name', None)\n",
    "        flights_dict['departure_icao'] = flight['departure']['airport'].get('icao', None)\n",
    "        flights_dict['departure_time_local'] = flight['departure'].get('scheduledTimeLocal', None)\n",
    "        flights_dict['airline'] = flight['airline'].get('name', None)\n",
    "        flights_dict['flight_number'] = flight.get('number', None)\n",
    "        flights_dict['data_retrieved_on'] = datetime.now().astimezone(timezone('Europe/Berlin')).date()\n",
    "        list_for_df.append(flights_dict)\n",
    "\n",
    "  return pd.DataFrame(list_for_df)"
   ]
  },
  {
   "cell_type": "code",
   "execution_count": 23,
   "metadata": {},
   "outputs": [],
   "source": [
    "icaos = ['EDDB', 'LOWW'] \n"
   ]
  },
  {
   "cell_type": "code",
   "execution_count": 24,
   "metadata": {
    "scrolled": true
   },
   "outputs": [
    {
     "data": {
      "text/html": [
       "<div>\n",
       "<style scoped>\n",
       "    .dataframe tbody tr th:only-of-type {\n",
       "        vertical-align: middle;\n",
       "    }\n",
       "\n",
       "    .dataframe tbody tr th {\n",
       "        vertical-align: top;\n",
       "    }\n",
       "\n",
       "    .dataframe thead th {\n",
       "        text-align: right;\n",
       "    }\n",
       "</style>\n",
       "<table border=\"1\" class=\"dataframe\">\n",
       "  <thead>\n",
       "    <tr style=\"text-align: right;\">\n",
       "      <th></th>\n",
       "      <th>arrival_icao</th>\n",
       "      <th>arrival_time_local</th>\n",
       "      <th>arrival_terminal</th>\n",
       "      <th>departure_city</th>\n",
       "      <th>departure_icao</th>\n",
       "      <th>departure_time_local</th>\n",
       "      <th>airline</th>\n",
       "      <th>flight_number</th>\n",
       "      <th>data_retrieved_on</th>\n",
       "    </tr>\n",
       "  </thead>\n",
       "  <tbody>\n",
       "    <tr>\n",
       "      <th>0</th>\n",
       "      <td>EDDB</td>\n",
       "      <td>2023-04-01 05:45+02:00</td>\n",
       "      <td>1</td>\n",
       "      <td>İzmir</td>\n",
       "      <td>LTBJ</td>\n",
       "      <td>2023-04-01 03:40+03:00</td>\n",
       "      <td>SunExpress</td>\n",
       "      <td>XQ 966</td>\n",
       "      <td>2023-03-31</td>\n",
       "    </tr>\n",
       "    <tr>\n",
       "      <th>1</th>\n",
       "      <td>EDDB</td>\n",
       "      <td>2023-04-01 07:40+02:00</td>\n",
       "      <td>1</td>\n",
       "      <td>Riga</td>\n",
       "      <td>EVRA</td>\n",
       "      <td>2023-04-01 07:05+03:00</td>\n",
       "      <td>Air Baltic</td>\n",
       "      <td>BT 211</td>\n",
       "      <td>2023-03-31</td>\n",
       "    </tr>\n",
       "    <tr>\n",
       "      <th>2</th>\n",
       "      <td>EDDB</td>\n",
       "      <td>2023-04-01 07:45+02:00</td>\n",
       "      <td>0</td>\n",
       "      <td>Bologna</td>\n",
       "      <td>LIPE</td>\n",
       "      <td>2023-04-01 06:00+02:00</td>\n",
       "      <td>Ryanair</td>\n",
       "      <td>FR 137</td>\n",
       "      <td>2023-03-31</td>\n",
       "    </tr>\n",
       "    <tr>\n",
       "      <th>3</th>\n",
       "      <td>EDDB</td>\n",
       "      <td>2023-04-01 07:55+02:00</td>\n",
       "      <td>1</td>\n",
       "      <td>Frankfurt-am-Main</td>\n",
       "      <td>EDDF</td>\n",
       "      <td>2023-04-01 06:45+02:00</td>\n",
       "      <td>Lufthansa</td>\n",
       "      <td>LH 170</td>\n",
       "      <td>2023-03-31</td>\n",
       "    </tr>\n",
       "    <tr>\n",
       "      <th>4</th>\n",
       "      <td>EDDB</td>\n",
       "      <td>2023-04-01 07:55+02:00</td>\n",
       "      <td>2</td>\n",
       "      <td>Paris</td>\n",
       "      <td>LFPO</td>\n",
       "      <td>2023-04-01 06:10+02:00</td>\n",
       "      <td>Transavia France</td>\n",
       "      <td>TO 3402</td>\n",
       "      <td>2023-03-31</td>\n",
       "    </tr>\n",
       "    <tr>\n",
       "      <th>...</th>\n",
       "      <td>...</td>\n",
       "      <td>...</td>\n",
       "      <td>...</td>\n",
       "      <td>...</td>\n",
       "      <td>...</td>\n",
       "      <td>...</td>\n",
       "      <td>...</td>\n",
       "      <td>...</td>\n",
       "      <td>...</td>\n",
       "    </tr>\n",
       "    <tr>\n",
       "      <th>542</th>\n",
       "      <td>LOWW</td>\n",
       "      <td>2023-04-01 23:00+02:00</td>\n",
       "      <td>0</td>\n",
       "      <td>Barcelona</td>\n",
       "      <td>LEBL</td>\n",
       "      <td>2023-04-01 20:30+02:00</td>\n",
       "      <td>Ryanair</td>\n",
       "      <td>FR 7351</td>\n",
       "      <td>2023-03-31</td>\n",
       "    </tr>\n",
       "    <tr>\n",
       "      <th>543</th>\n",
       "      <td>LOWW</td>\n",
       "      <td>2023-04-01 23:05+02:00</td>\n",
       "      <td>0</td>\n",
       "      <td>Fuerteventura Island</td>\n",
       "      <td>GCFV</td>\n",
       "      <td>2023-04-01 17:25+01:00</td>\n",
       "      <td>Ryanair</td>\n",
       "      <td>FR 744</td>\n",
       "      <td>2023-03-31</td>\n",
       "    </tr>\n",
       "    <tr>\n",
       "      <th>544</th>\n",
       "      <td>LOWW</td>\n",
       "      <td>2023-04-01 23:00+02:00</td>\n",
       "      <td>0</td>\n",
       "      <td>Copenhagen</td>\n",
       "      <td>EKCH</td>\n",
       "      <td>2023-04-01 21:15+02:00</td>\n",
       "      <td>Ryanair</td>\n",
       "      <td>FR 9888</td>\n",
       "      <td>2023-03-31</td>\n",
       "    </tr>\n",
       "    <tr>\n",
       "      <th>545</th>\n",
       "      <td>LOWW</td>\n",
       "      <td>2023-04-01 23:10+02:00</td>\n",
       "      <td>3</td>\n",
       "      <td>Frankfurt-am-Main</td>\n",
       "      <td>EDDF</td>\n",
       "      <td>2023-04-01 21:50+02:00</td>\n",
       "      <td>Austrian</td>\n",
       "      <td>OS 220</td>\n",
       "      <td>2023-03-31</td>\n",
       "    </tr>\n",
       "    <tr>\n",
       "      <th>546</th>\n",
       "      <td>LOWW</td>\n",
       "      <td>2023-04-01 23:05+02:00</td>\n",
       "      <td>3</td>\n",
       "      <td>Rome</td>\n",
       "      <td>LIRF</td>\n",
       "      <td>2023-04-01 21:30+02:00</td>\n",
       "      <td>Austrian</td>\n",
       "      <td>OS 506</td>\n",
       "      <td>2023-03-31</td>\n",
       "    </tr>\n",
       "  </tbody>\n",
       "</table>\n",
       "<p>547 rows × 9 columns</p>\n",
       "</div>"
      ],
      "text/plain": [
       "    arrival_icao      arrival_time_local arrival_terminal  \\\n",
       "0           EDDB  2023-04-01 05:45+02:00                1   \n",
       "1           EDDB  2023-04-01 07:40+02:00                1   \n",
       "2           EDDB  2023-04-01 07:45+02:00                0   \n",
       "3           EDDB  2023-04-01 07:55+02:00                1   \n",
       "4           EDDB  2023-04-01 07:55+02:00                2   \n",
       "..           ...                     ...              ...   \n",
       "542         LOWW  2023-04-01 23:00+02:00                0   \n",
       "543         LOWW  2023-04-01 23:05+02:00                0   \n",
       "544         LOWW  2023-04-01 23:00+02:00                0   \n",
       "545         LOWW  2023-04-01 23:10+02:00                3   \n",
       "546         LOWW  2023-04-01 23:05+02:00                3   \n",
       "\n",
       "           departure_city departure_icao    departure_time_local  \\\n",
       "0                   İzmir           LTBJ  2023-04-01 03:40+03:00   \n",
       "1                    Riga           EVRA  2023-04-01 07:05+03:00   \n",
       "2                 Bologna           LIPE  2023-04-01 06:00+02:00   \n",
       "3       Frankfurt-am-Main           EDDF  2023-04-01 06:45+02:00   \n",
       "4                   Paris           LFPO  2023-04-01 06:10+02:00   \n",
       "..                    ...            ...                     ...   \n",
       "542             Barcelona           LEBL  2023-04-01 20:30+02:00   \n",
       "543  Fuerteventura Island           GCFV  2023-04-01 17:25+01:00   \n",
       "544            Copenhagen           EKCH  2023-04-01 21:15+02:00   \n",
       "545     Frankfurt-am-Main           EDDF  2023-04-01 21:50+02:00   \n",
       "546                  Rome           LIRF  2023-04-01 21:30+02:00   \n",
       "\n",
       "              airline flight_number data_retrieved_on  \n",
       "0          SunExpress        XQ 966        2023-03-31  \n",
       "1          Air Baltic        BT 211        2023-03-31  \n",
       "2             Ryanair        FR 137        2023-03-31  \n",
       "3           Lufthansa        LH 170        2023-03-31  \n",
       "4    Transavia France       TO 3402        2023-03-31  \n",
       "..                ...           ...               ...  \n",
       "542           Ryanair       FR 7351        2023-03-31  \n",
       "543           Ryanair        FR 744        2023-03-31  \n",
       "544           Ryanair       FR 9888        2023-03-31  \n",
       "545          Austrian        OS 220        2023-03-31  \n",
       "546          Austrian        OS 506        2023-03-31  \n",
       "\n",
       "[547 rows x 9 columns]"
      ]
     },
     "execution_count": 24,
     "metadata": {},
     "output_type": "execute_result"
    }
   ],
   "source": [
    "tomorrows_flight_arrivals(icaos) "
   ]
  },
  {
   "cell_type": "markdown",
   "metadata": {},
   "source": [
    "# Establishing connection from pandas to the sql"
   ]
  },
  {
   "cell_type": "code",
   "execution_count": 25,
   "metadata": {},
   "outputs": [
    {
     "name": "stdout",
     "output_type": "stream",
     "text": [
      "Requirement already satisfied: pymysql in /Users/Priyatam/opt/anaconda3/lib/python3.9/site-packages (1.0.3)\r\n"
     ]
    }
   ],
   "source": [
    "!pip install pymysql\n",
    "import sqlalchemy"
   ]
  },
  {
   "cell_type": "code",
   "execution_count": 26,
   "metadata": {},
   "outputs": [],
   "source": [
    "schema=\"gans\"   # name of the database you want to use here\n",
    "host=\"127.0.0.1\"        # to connect to your local server\n",
    "user=\"root\"\n",
    "password=\"1234\" # your password!!!!\n",
    "port=3306\n",
    "connection_details = f'mysql+pymysql://{user}:{password}@{host}:{port}/{schema}'"
   ]
  },
  {
   "cell_type": "code",
   "execution_count": 28,
   "metadata": {},
   "outputs": [
    {
     "data": {
      "text/plain": [
       "547"
      ]
     },
     "execution_count": 28,
     "metadata": {},
     "output_type": "execute_result"
    }
   ],
   "source": [
    "tomorrows_flight_arrivals(icaos).to_sql('flights',con=connection_details,if_exists='append',index=False)"
   ]
  },
  {
   "cell_type": "code",
   "execution_count": null,
   "metadata": {},
   "outputs": [],
   "source": []
  }
 ],
 "metadata": {
  "colab": {
   "provenance": []
  },
  "kernelspec": {
   "display_name": "Python 3 (ipykernel)",
   "language": "python",
   "name": "python3"
  },
  "language_info": {
   "codemirror_mode": {
    "name": "ipython",
    "version": 3
   },
   "file_extension": ".py",
   "mimetype": "text/x-python",
   "name": "python",
   "nbconvert_exporter": "python",
   "pygments_lexer": "ipython3",
   "version": "3.9.13"
  }
 },
 "nbformat": 4,
 "nbformat_minor": 1
}
